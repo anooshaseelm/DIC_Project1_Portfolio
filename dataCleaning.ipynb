{
 "cells": [
  {
   "cell_type": "markdown",
   "metadata": {
    "id": "9FIZCSqVuWSb"
   },
   "source": [
    "## Phase 1"
   ]
  },
  {
   "cell_type": "markdown",
   "metadata": {
    "id": "976IIwdyuhSk"
   },
   "source": [
    "### Header\n",
    "#### Course Name:  CS 587 Data Intensive and Computing\n",
    "#### phase #: 1\n",
    "#### term project name: Crime Data Analysis"
   ]
  },
  {
   "cell_type": "markdown",
   "metadata": {
    "id": "WlFNyBSWukkE"
   },
   "source": [
    "#### 1. PROBLEM STATEMENT\n",
    " *The aim of this project is to clean the data in a dataset, analyse it and generate a descriptive summary. The cleaned data  is used to generate a descriptive summary for the features and contents.  The dataset used [(NYPD Shooting Incident Data)](https://data.cityofnewyork.us/Public-Safety/NYPD-Shooting-Incident-Data-Historic-/833y-fsy8/data) includes all shooting crimes reported to the New York City Police Department (NYPD) from 2006 to the end of 2019.One among the major crime activities in New York is \"shootings\" and many have occured until today. The city was expected to finish 2020 with a 14-year high in that category of violence, according to Police Commissioner Dermot Shea.People are not aware of these crimes and even after so many incidents till today and we haven't witnessed any decrease in this count. Victims range from 18 - 65 years old. Our dataset addresses a shooting episode in NYC and incorporates data about the occasion, the area, and season of event. Likewise, data identified with suspect and casualty demographics which we'll be able to obtain useful information for our anlaysis. It will provide a insight to what age category the perpetrators were and who are the major category of victims being attacked.It would also provide information about the crime hotspots of New York City.*\n",
    "\n"
   ]
  },
  {
   "cell_type": "markdown",
   "metadata": {
    "id": "Fz4y43obuocl"
   },
   "source": [
    "#### 2. Name of your data: \n",
    "*NYPD Shooting Incident Dataset*"
   ]
  },
  {
   "cell_type": "markdown",
   "metadata": {
    "id": "0GVyBWN0utp5"
   },
   "source": [
    "#### 3. Background:\n",
    "   + Source: https://data.cityofnewyork.us/Public-Safety/NYPD-Shooting-Incident-Data-Historic-/833y-fsy8/data\n",
    "   + Time Period: 2006 to 2019\n",
    "   + Data Unit: Each row is a shooting incident"
   ]
  },
  {
   "cell_type": "markdown",
   "metadata": {
    "id": "qufK6cVXuwP1"
   },
   "source": [
    "#### 4 Introduction of dataset\n",
    "\n",
    "+ *The dataset consists of 19 columns labelled and 21.6K rows. All the information about column features is given in the below table*"
   ]
  },
  {
   "cell_type": "markdown",
   "metadata": {},
   "source": [
    "|Column label|description|\n",
    "|-|-|\n",
    "| INCIDENT_KEY | Randomly generated persistent ID for each arrest |\n",
    "| OCCUR_DATE | Exact date of the shooting incident|\n",
    "|OCCUR_TIME | Exact time of the shooting incident|\n",
    "|BORO| Borough where the shooting incident occurred |\n",
    "|PRECINCT| Precinct where the shooting incident occurred|\n",
    "|JURISDICTION_CODE| Jurisdiction where the shooting incident occurred. Jurisdiction codes 0(Patrol), 1(Transit) and 2(Housing) represent NYPD whilst codes 3 and more represent non NYPD jurisdictions|\n",
    "|LOCATION_DESC | Location of the shooting incident|\n",
    "|STATISTICAL_MURDER_FLAG | Shooting resulted in the victim’s death which would be counted as a murder|\n",
    "|PERP_AGE_GROUP| Perpetrator’s age within a category|\n",
    "|PERP_SEX | Perpetrator’s sex description|\n",
    "|PERP_RACE |Perpetrator’s race description|\n",
    "|VIC_AGE_GROUP | Victim’s age within a category|\n",
    "|VIC_SEX | Victim’s sex description|\n",
    "|VIC_RACE | Victim’s race description|\n",
    "|X_COORD_CD| Midblock X-coordinate for New York State Plane Coordinate System, Long Island Zone, NAD 83, units feet (FIPS 3104)|\n",
    "|Y_COORD_CD | Midblock Y-coordinate for New York State Plane Coordinate System, Long Island Zone, NAD 83, units feet (FIPS 3104)|\n",
    "|Latitude | Latitude coordinate for Global Coordinate System, WGS 1984, decimal degrees (EPSG 4326)|\n",
    "|Longitude| Longitude coordinate for Global Coordinate System, WGS 1984, decimal degrees (EPSG 4326)|\n",
    "|Lon_Lat | Longitude and Latitude Coordinates for mapping|"
   ]
  },
  {
   "cell_type": "markdown",
   "metadata": {
    "id": "iEmT1NQJuzf9"
   },
   "source": [
    "#### 5 Hypothesis and conclusion \n",
    " \n",
    " \n",
    "*The analysis performed would produce helpful information such as who were the ones affected in these crimes and which place of New York City is the most dangerous and vulnerable for these crimes. This would help people to be aware of the crimes happening in NYC. Most importantly we can derive which race has been affected the most.*\n"
   ]
  },
  {
   "cell_type": "markdown",
   "metadata": {
    "id": "4ngFlilwu8RO"
   },
   "source": [
    "##### 1"
   ]
  },
  {
   "cell_type": "code",
   "execution_count": 28,
   "metadata": {
    "id": "nK6TznoEvC_k"
   },
   "outputs": [],
   "source": [
    "# code\n",
    "import pandas as pd\n",
    "import seaborn as sns\n",
    "import numpy as np\n"
   ]
  },
  {
   "cell_type": "code",
   "execution_count": 29,
   "metadata": {},
   "outputs": [],
   "source": [
    "data = pd.read_csv('data/NYPD_shooting.csv')"
   ]
  },
  {
   "cell_type": "markdown",
   "metadata": {},
   "source": [
    "# Task 1 - Removing Duplicates"
   ]
  },
  {
   "cell_type": "markdown",
   "metadata": {
    "id": "qHgqrXBOvSUW"
   },
   "source": [
    "### It is given in the dataset footnotes that a shooting incident can have multiple victims involved and as a result duplicate INCIDENT_KEY’s are produced. Each INCIDENT_KEY represents a victim but similar duplicate keys are counted as one incident. So, let us check for duplicate rows and remove if any."
   ]
  },
  {
   "cell_type": "code",
   "execution_count": 30,
   "metadata": {
    "id": "eIgTXat0vT6r"
   },
   "outputs": [
    {
     "name": "stdout",
     "output_type": "stream",
     "text": [
      "Number of duplicates in INCIDENT_KEY feature are 4595\n"
     ]
    }
   ],
   "source": [
    "# code\n",
    "count = data['INCIDENT_KEY'].nunique()\n",
    "print(\"Number of duplicates in INCIDENT_KEY feature are {}\".format(len(data)-count))"
   ]
  },
  {
   "cell_type": "markdown",
   "metadata": {},
   "source": [
    "### We have some duplicate rows here, so we have to remove them before cleaning the dataset further"
   ]
  },
  {
   "cell_type": "code",
   "execution_count": 31,
   "metadata": {},
   "outputs": [
    {
     "name": "stdout",
     "output_type": "stream",
     "text": [
      "Number of duplicates in INCIDENT_KEY feature are 0\n"
     ]
    }
   ],
   "source": [
    "data.drop_duplicates(subset=['INCIDENT_KEY'], inplace=True)\n",
    "\n",
    "count = data['INCIDENT_KEY'].nunique()\n",
    "print(\"Number of duplicates in INCIDENT_KEY feature are {}\".format(len(data)-count))"
   ]
  },
  {
   "cell_type": "markdown",
   "metadata": {
    "id": "nQyLIVILvGPR"
   },
   "source": [
    "## Task 2 - Convert the object data to categorical data to perform encoding later"
   ]
  },
  {
   "cell_type": "code",
   "execution_count": 32,
   "metadata": {},
   "outputs": [
    {
     "name": "stdout",
     "output_type": "stream",
     "text": [
      "<class 'pandas.core.frame.DataFrame'>\n",
      "Int64Index: 17031 entries, 0 to 21624\n",
      "Data columns (total 19 columns):\n",
      " #   Column                   Non-Null Count  Dtype  \n",
      "---  ------                   --------------  -----  \n",
      " 0   INCIDENT_KEY             17031 non-null  int64  \n",
      " 1   OCCUR_DATE               17031 non-null  object \n",
      " 2   OCCUR_TIME               17031 non-null  object \n",
      " 3   BORO                     17031 non-null  object \n",
      " 4   PRECINCT                 17031 non-null  int64  \n",
      " 5   JURISDICTION_CODE        17029 non-null  float64\n",
      " 6   LOCATION_DESC            7124 non-null   object \n",
      " 7   STATISTICAL_MURDER_FLAG  17031 non-null  bool   \n",
      " 8   PERP_AGE_GROUP           10662 non-null  object \n",
      " 9   PERP_SEX                 10692 non-null  object \n",
      " 10  PERP_RACE                10692 non-null  object \n",
      " 11  VIC_AGE_GROUP            17031 non-null  object \n",
      " 12  VIC_SEX                  17031 non-null  object \n",
      " 13  VIC_RACE                 17031 non-null  object \n",
      " 14  X_COORD_CD               17031 non-null  object \n",
      " 15  Y_COORD_CD               17031 non-null  object \n",
      " 16  Latitude                 17031 non-null  float64\n",
      " 17  Longitude                17031 non-null  float64\n",
      " 18  Lon_Lat                  17031 non-null  object \n",
      "dtypes: bool(1), float64(3), int64(2), object(13)\n",
      "memory usage: 2.5+ MB\n"
     ]
    }
   ],
   "source": [
    "data.info()"
   ]
  },
  {
   "cell_type": "markdown",
   "metadata": {},
   "source": [
    "### Here, we can see that object datatype are PERP_AGE_GROUP, PERP_SEX, VIC_AGE_GROUP, VIC_SEX, VIC_RACE, BORO, LOCATION_DESC. X_COORD and Y_COORD cannot be converted to category data as it does not make sense."
   ]
  },
  {
   "cell_type": "code",
   "execution_count": 33,
   "metadata": {
    "id": "tPRrnRtavIBk"
   },
   "outputs": [
    {
     "name": "stdout",
     "output_type": "stream",
     "text": [
      "<class 'pandas.core.frame.DataFrame'>\n",
      "Int64Index: 17031 entries, 0 to 21624\n",
      "Data columns (total 19 columns):\n",
      " #   Column                   Non-Null Count  Dtype   \n",
      "---  ------                   --------------  -----   \n",
      " 0   INCIDENT_KEY             17031 non-null  int64   \n",
      " 1   OCCUR_DATE               17031 non-null  object  \n",
      " 2   OCCUR_TIME               17031 non-null  object  \n",
      " 3   BORO                     17031 non-null  category\n",
      " 4   PRECINCT                 17031 non-null  int64   \n",
      " 5   JURISDICTION_CODE        17029 non-null  float64 \n",
      " 6   LOCATION_DESC            7124 non-null   category\n",
      " 7   STATISTICAL_MURDER_FLAG  17031 non-null  bool    \n",
      " 8   PERP_AGE_GROUP           10662 non-null  category\n",
      " 9   PERP_SEX                 10692 non-null  category\n",
      " 10  PERP_RACE                10692 non-null  category\n",
      " 11  VIC_AGE_GROUP            17031 non-null  category\n",
      " 12  VIC_SEX                  17031 non-null  category\n",
      " 13  VIC_RACE                 17031 non-null  category\n",
      " 14  X_COORD_CD               17031 non-null  object  \n",
      " 15  Y_COORD_CD               17031 non-null  object  \n",
      " 16  Latitude                 17031 non-null  float64 \n",
      " 17  Longitude                17031 non-null  float64 \n",
      " 18  Lon_Lat                  17031 non-null  object  \n",
      "dtypes: bool(1), category(8), float64(3), int64(2), object(5)\n",
      "memory usage: 1.6+ MB\n"
     ]
    }
   ],
   "source": [
    "# code\n",
    "data[\"PERP_RACE\"] = data[\"PERP_RACE\"].astype(\"category\")\n",
    "data[\"PERP_AGE_GROUP\"] = data[\"PERP_AGE_GROUP\"].astype(\"category\")\n",
    "data[\"PERP_SEX\"] = data[\"PERP_SEX\"].astype(\"category\")\n",
    "data[\"VIC_AGE_GROUP\"] = data[\"VIC_AGE_GROUP\"].astype(\"category\")\n",
    "data[\"VIC_SEX\"] = data[\"VIC_SEX\"].astype(\"category\")\n",
    "data[\"VIC_RACE\"] = data[\"VIC_RACE\"].astype(\"category\")\n",
    "data['BORO'] = data['BORO'].astype(\"category\")\n",
    "data[\"LOCATION_DESC\"] = data[\"LOCATION_DESC\"].astype(\"category\")\n",
    "\n",
    "data.info()"
   ]
  },
  {
   "cell_type": "markdown",
   "metadata": {},
   "source": [
    "# Task 3 -Let us convert all the categorical feature names to capitals to avoid any duplicate names."
   ]
  },
  {
   "cell_type": "code",
   "execution_count": 34,
   "metadata": {},
   "outputs": [
    {
     "data": {
      "text/plain": [
       "['BRONX', 'BROOKLYN', 'MANHATTAN', 'QUEENS', 'STATEN ISLAND']"
      ]
     },
     "execution_count": 34,
     "metadata": {},
     "output_type": "execute_result"
    }
   ],
   "source": [
    "data['BORO'].str.upper()\n",
    "data['BORO'].cat.categories.tolist()"
   ]
  },
  {
   "cell_type": "code",
   "execution_count": 35,
   "metadata": {},
   "outputs": [
    {
     "data": {
      "text/plain": [
       "['AMERICAN INDIAN/ALASKAN NATIVE',\n",
       " 'ASIAN / PACIFIC ISLANDER',\n",
       " 'BLACK',\n",
       " 'BLACK HISPANIC',\n",
       " 'UNKNOWN',\n",
       " 'WHITE',\n",
       " 'WHITE HISPANIC']"
      ]
     },
     "execution_count": 35,
     "metadata": {},
     "output_type": "execute_result"
    }
   ],
   "source": [
    "data[\"PERP_RACE\"].str.upper()\n",
    "data['PERP_RACE'].cat.categories.tolist()"
   ]
  },
  {
   "cell_type": "code",
   "execution_count": 36,
   "metadata": {},
   "outputs": [
    {
     "data": {
      "text/plain": [
       "['F', 'M', 'U']"
      ]
     },
     "execution_count": 36,
     "metadata": {},
     "output_type": "execute_result"
    }
   ],
   "source": [
    "data[\"PERP_SEX\"].str.upper()\n",
    "data['PERP_SEX'].cat.categories.tolist()"
   ]
  },
  {
   "cell_type": "code",
   "execution_count": 37,
   "metadata": {},
   "outputs": [
    {
     "data": {
      "text/plain": [
       "['F', 'M', 'U']"
      ]
     },
     "execution_count": 37,
     "metadata": {},
     "output_type": "execute_result"
    }
   ],
   "source": [
    "data[\"VIC_SEX\"].str.upper()\n",
    "data['VIC_SEX'].cat.categories.tolist()"
   ]
  },
  {
   "cell_type": "code",
   "execution_count": 38,
   "metadata": {},
   "outputs": [
    {
     "data": {
      "text/plain": [
       "['AMERICAN INDIAN/ALASKAN NATIVE',\n",
       " 'ASIAN / PACIFIC ISLANDER',\n",
       " 'BLACK',\n",
       " 'BLACK HISPANIC',\n",
       " 'UNKNOWN',\n",
       " 'WHITE',\n",
       " 'WHITE HISPANIC']"
      ]
     },
     "execution_count": 38,
     "metadata": {},
     "output_type": "execute_result"
    }
   ],
   "source": [
    "data[\"VIC_RACE\"].str.upper()\n",
    "data['VIC_RACE'].cat.categories.tolist()"
   ]
  },
  {
   "cell_type": "code",
   "execution_count": 39,
   "metadata": {},
   "outputs": [
    {
     "data": {
      "text/plain": [
       "['ATM',\n",
       " 'BANK',\n",
       " 'BAR/NIGHT CLUB',\n",
       " 'BEAUTY/NAIL SALON',\n",
       " 'CANDY STORE',\n",
       " 'CHAIN STORE',\n",
       " 'CHECK CASH',\n",
       " 'CLOTHING BOUTIQUE',\n",
       " 'COMMERCIAL BLDG',\n",
       " 'DEPT STORE',\n",
       " 'DOCTOR/DENTIST',\n",
       " 'DRUG STORE',\n",
       " 'DRY CLEANER/LAUNDRY',\n",
       " 'FACTORY/WAREHOUSE',\n",
       " 'FAST FOOD',\n",
       " 'GAS STATION',\n",
       " 'GROCERY/BODEGA',\n",
       " 'GYM/FITNESS FACILITY',\n",
       " 'HOSPITAL',\n",
       " 'HOTEL/MOTEL',\n",
       " 'JEWELRY STORE',\n",
       " 'LIQUOR STORE',\n",
       " 'LOAN COMPANY',\n",
       " 'MULTI DWELL - APT BUILD',\n",
       " 'MULTI DWELL - PUBLIC HOUS',\n",
       " 'NONE',\n",
       " 'PHOTO/COPY STORE',\n",
       " 'PVT HOUSE',\n",
       " 'RESTAURANT/DINER',\n",
       " 'SCHOOL',\n",
       " 'SHOE STORE',\n",
       " 'SMALL MERCHANT',\n",
       " 'SOCIAL CLUB/POLICY LOCATI',\n",
       " 'STORAGE FACILITY',\n",
       " 'STORE UNCLASSIFIED',\n",
       " 'SUPERMARKET',\n",
       " 'TELECOMM. STORE',\n",
       " 'VARIETY STORE',\n",
       " 'VIDEO STORE']"
      ]
     },
     "execution_count": 39,
     "metadata": {},
     "output_type": "execute_result"
    }
   ],
   "source": [
    "data[\"LOCATION_DESC\"].str.upper()\n",
    "data['LOCATION_DESC'].cat.categories.tolist()"
   ]
  },
  {
   "cell_type": "markdown",
   "metadata": {},
   "source": [
    "# Task 4 - Removing unnecessary features"
   ]
  },
  {
   "cell_type": "markdown",
   "metadata": {},
   "source": [
    "### We see that there are some NaN values in the dataset. So, now let us check for the total null values or missing values in the each column"
   ]
  },
  {
   "cell_type": "code",
   "execution_count": 40,
   "metadata": {},
   "outputs": [
    {
     "data": {
      "text/plain": [
       "INCIDENT_KEY                  0\n",
       "OCCUR_DATE                    0\n",
       "OCCUR_TIME                    0\n",
       "BORO                          0\n",
       "PRECINCT                      0\n",
       "JURISDICTION_CODE             2\n",
       "LOCATION_DESC              9907\n",
       "STATISTICAL_MURDER_FLAG       0\n",
       "PERP_AGE_GROUP             6369\n",
       "PERP_SEX                   6339\n",
       "PERP_RACE                  6339\n",
       "VIC_AGE_GROUP                 0\n",
       "VIC_SEX                       0\n",
       "VIC_RACE                      0\n",
       "X_COORD_CD                    0\n",
       "Y_COORD_CD                    0\n",
       "Latitude                      0\n",
       "Longitude                     0\n",
       "Lon_Lat                       0\n",
       "dtype: int64"
      ]
     },
     "execution_count": 40,
     "metadata": {},
     "output_type": "execute_result"
    }
   ],
   "source": [
    "data.isnull().sum()"
   ]
  },
  {
   "cell_type": "code",
   "execution_count": 41,
   "metadata": {},
   "outputs": [
    {
     "data": {
      "text/plain": [
       "INCIDENT_KEY                0.000000\n",
       "OCCUR_DATE                  0.000000\n",
       "OCCUR_TIME                  0.000000\n",
       "BORO                        0.000000\n",
       "PRECINCT                    0.000000\n",
       "JURISDICTION_CODE           0.011743\n",
       "LOCATION_DESC              58.170395\n",
       "STATISTICAL_MURDER_FLAG     0.000000\n",
       "PERP_AGE_GROUP             37.396512\n",
       "PERP_SEX                   37.220363\n",
       "PERP_RACE                  37.220363\n",
       "VIC_AGE_GROUP               0.000000\n",
       "VIC_SEX                     0.000000\n",
       "VIC_RACE                    0.000000\n",
       "X_COORD_CD                  0.000000\n",
       "Y_COORD_CD                  0.000000\n",
       "Latitude                    0.000000\n",
       "Longitude                   0.000000\n",
       "Lon_Lat                     0.000000\n",
       "dtype: float64"
      ]
     },
     "execution_count": 41,
     "metadata": {},
     "output_type": "execute_result"
    }
   ],
   "source": [
    "data.isnull().mean()*100 #percentage of missing data"
   ]
  },
  {
   "cell_type": "markdown",
   "metadata": {},
   "source": [
    "### Almost 60 percent of the LOCATION_DESC data is missing, so it does not make sense to replace the missing data with mode of the category. So, let us remove this feature from the dataset"
   ]
  },
  {
   "cell_type": "code",
   "execution_count": 42,
   "metadata": {},
   "outputs": [
    {
     "data": {
      "text/html": [
       "<div>\n",
       "<style scoped>\n",
       "    .dataframe tbody tr th:only-of-type {\n",
       "        vertical-align: middle;\n",
       "    }\n",
       "\n",
       "    .dataframe tbody tr th {\n",
       "        vertical-align: top;\n",
       "    }\n",
       "\n",
       "    .dataframe thead th {\n",
       "        text-align: right;\n",
       "    }\n",
       "</style>\n",
       "<table border=\"1\" class=\"dataframe\">\n",
       "  <thead>\n",
       "    <tr style=\"text-align: right;\">\n",
       "      <th></th>\n",
       "      <th>INCIDENT_KEY</th>\n",
       "      <th>OCCUR_DATE</th>\n",
       "      <th>OCCUR_TIME</th>\n",
       "      <th>BORO</th>\n",
       "      <th>PRECINCT</th>\n",
       "      <th>JURISDICTION_CODE</th>\n",
       "      <th>STATISTICAL_MURDER_FLAG</th>\n",
       "      <th>PERP_AGE_GROUP</th>\n",
       "      <th>PERP_SEX</th>\n",
       "      <th>PERP_RACE</th>\n",
       "      <th>VIC_AGE_GROUP</th>\n",
       "      <th>VIC_SEX</th>\n",
       "      <th>VIC_RACE</th>\n",
       "      <th>X_COORD_CD</th>\n",
       "      <th>Y_COORD_CD</th>\n",
       "      <th>Latitude</th>\n",
       "      <th>Longitude</th>\n",
       "      <th>Lon_Lat</th>\n",
       "    </tr>\n",
       "  </thead>\n",
       "  <tbody>\n",
       "    <tr>\n",
       "      <th>0</th>\n",
       "      <td>201575314</td>\n",
       "      <td>08/23/2019</td>\n",
       "      <td>22:10:00</td>\n",
       "      <td>QUEENS</td>\n",
       "      <td>103</td>\n",
       "      <td>0.0</td>\n",
       "      <td>False</td>\n",
       "      <td>NaN</td>\n",
       "      <td>NaN</td>\n",
       "      <td>NaN</td>\n",
       "      <td>25-44</td>\n",
       "      <td>M</td>\n",
       "      <td>BLACK</td>\n",
       "      <td>1037451</td>\n",
       "      <td>193561</td>\n",
       "      <td>40.697805</td>\n",
       "      <td>-73.808141</td>\n",
       "      <td>POINT (-73.80814071699996 40.697805308000056)</td>\n",
       "    </tr>\n",
       "    <tr>\n",
       "      <th>1</th>\n",
       "      <td>205748546</td>\n",
       "      <td>11/27/2019</td>\n",
       "      <td>15:54:00</td>\n",
       "      <td>BRONX</td>\n",
       "      <td>40</td>\n",
       "      <td>0.0</td>\n",
       "      <td>False</td>\n",
       "      <td>&lt;18</td>\n",
       "      <td>M</td>\n",
       "      <td>BLACK</td>\n",
       "      <td>25-44</td>\n",
       "      <td>F</td>\n",
       "      <td>BLACK</td>\n",
       "      <td>1006789</td>\n",
       "      <td>237559</td>\n",
       "      <td>40.818700</td>\n",
       "      <td>-73.918571</td>\n",
       "      <td>POINT (-73.91857061799993 40.81869973000005)</td>\n",
       "    </tr>\n",
       "    <tr>\n",
       "      <th>2</th>\n",
       "      <td>193118596</td>\n",
       "      <td>02/02/2019</td>\n",
       "      <td>19:40:00</td>\n",
       "      <td>MANHATTAN</td>\n",
       "      <td>23</td>\n",
       "      <td>0.0</td>\n",
       "      <td>False</td>\n",
       "      <td>18-24</td>\n",
       "      <td>M</td>\n",
       "      <td>WHITE HISPANIC</td>\n",
       "      <td>18-24</td>\n",
       "      <td>M</td>\n",
       "      <td>BLACK HISPANIC</td>\n",
       "      <td>999347</td>\n",
       "      <td>227795</td>\n",
       "      <td>40.791916</td>\n",
       "      <td>-73.945480</td>\n",
       "      <td>POINT (-73.94547965999999 40.791916091000076)</td>\n",
       "    </tr>\n",
       "    <tr>\n",
       "      <th>3</th>\n",
       "      <td>204192600</td>\n",
       "      <td>10/24/2019</td>\n",
       "      <td>00:52:00</td>\n",
       "      <td>STATEN ISLAND</td>\n",
       "      <td>121</td>\n",
       "      <td>0.0</td>\n",
       "      <td>True</td>\n",
       "      <td>25-44</td>\n",
       "      <td>M</td>\n",
       "      <td>BLACK</td>\n",
       "      <td>25-44</td>\n",
       "      <td>F</td>\n",
       "      <td>BLACK</td>\n",
       "      <td>938149</td>\n",
       "      <td>171781</td>\n",
       "      <td>40.638064</td>\n",
       "      <td>-74.166108</td>\n",
       "      <td>POINT (-74.16610830199996 40.63806398200006)</td>\n",
       "    </tr>\n",
       "    <tr>\n",
       "      <th>4</th>\n",
       "      <td>201483468</td>\n",
       "      <td>08/22/2019</td>\n",
       "      <td>18:03:00</td>\n",
       "      <td>BRONX</td>\n",
       "      <td>46</td>\n",
       "      <td>0.0</td>\n",
       "      <td>False</td>\n",
       "      <td>25-44</td>\n",
       "      <td>M</td>\n",
       "      <td>BLACK HISPANIC</td>\n",
       "      <td>18-24</td>\n",
       "      <td>M</td>\n",
       "      <td>BLACK</td>\n",
       "      <td>1008224</td>\n",
       "      <td>250621</td>\n",
       "      <td>40.854547</td>\n",
       "      <td>-73.913339</td>\n",
       "      <td>POINT (-73.91333944399999 40.85454734900003)</td>\n",
       "    </tr>\n",
       "  </tbody>\n",
       "</table>\n",
       "</div>"
      ],
      "text/plain": [
       "   INCIDENT_KEY  OCCUR_DATE OCCUR_TIME           BORO  PRECINCT  \\\n",
       "0     201575314  08/23/2019   22:10:00         QUEENS       103   \n",
       "1     205748546  11/27/2019   15:54:00          BRONX        40   \n",
       "2     193118596  02/02/2019   19:40:00      MANHATTAN        23   \n",
       "3     204192600  10/24/2019   00:52:00  STATEN ISLAND       121   \n",
       "4     201483468  08/22/2019   18:03:00          BRONX        46   \n",
       "\n",
       "   JURISDICTION_CODE  STATISTICAL_MURDER_FLAG PERP_AGE_GROUP PERP_SEX  \\\n",
       "0                0.0                    False            NaN      NaN   \n",
       "1                0.0                    False            <18        M   \n",
       "2                0.0                    False          18-24        M   \n",
       "3                0.0                     True          25-44        M   \n",
       "4                0.0                    False          25-44        M   \n",
       "\n",
       "        PERP_RACE VIC_AGE_GROUP VIC_SEX        VIC_RACE X_COORD_CD Y_COORD_CD  \\\n",
       "0             NaN         25-44       M           BLACK    1037451     193561   \n",
       "1           BLACK         25-44       F           BLACK    1006789     237559   \n",
       "2  WHITE HISPANIC         18-24       M  BLACK HISPANIC     999347     227795   \n",
       "3           BLACK         25-44       F           BLACK     938149     171781   \n",
       "4  BLACK HISPANIC         18-24       M           BLACK    1008224     250621   \n",
       "\n",
       "    Latitude  Longitude                                        Lon_Lat  \n",
       "0  40.697805 -73.808141  POINT (-73.80814071699996 40.697805308000056)  \n",
       "1  40.818700 -73.918571   POINT (-73.91857061799993 40.81869973000005)  \n",
       "2  40.791916 -73.945480  POINT (-73.94547965999999 40.791916091000076)  \n",
       "3  40.638064 -74.166108   POINT (-74.16610830199996 40.63806398200006)  \n",
       "4  40.854547 -73.913339   POINT (-73.91333944399999 40.85454734900003)  "
      ]
     },
     "execution_count": 42,
     "metadata": {},
     "output_type": "execute_result"
    }
   ],
   "source": [
    "data.drop(['LOCATION_DESC'],inplace=True,axis=1)\n",
    "data.head()"
   ]
  },
  {
   "cell_type": "markdown",
   "metadata": {},
   "source": [
    "# Task 5 - Dealing with missing values"
   ]
  },
  {
   "cell_type": "markdown",
   "metadata": {},
   "source": [
    "### Now, Replace NaN values of other features of categorical data with mode of the category"
   ]
  },
  {
   "cell_type": "code",
   "execution_count": 43,
   "metadata": {
    "scrolled": true
   },
   "outputs": [
    {
     "data": {
      "text/html": [
       "<div>\n",
       "<style scoped>\n",
       "    .dataframe tbody tr th:only-of-type {\n",
       "        vertical-align: middle;\n",
       "    }\n",
       "\n",
       "    .dataframe tbody tr th {\n",
       "        vertical-align: top;\n",
       "    }\n",
       "\n",
       "    .dataframe thead th {\n",
       "        text-align: right;\n",
       "    }\n",
       "</style>\n",
       "<table border=\"1\" class=\"dataframe\">\n",
       "  <thead>\n",
       "    <tr style=\"text-align: right;\">\n",
       "      <th></th>\n",
       "      <th>INCIDENT_KEY</th>\n",
       "      <th>OCCUR_DATE</th>\n",
       "      <th>OCCUR_TIME</th>\n",
       "      <th>BORO</th>\n",
       "      <th>PRECINCT</th>\n",
       "      <th>JURISDICTION_CODE</th>\n",
       "      <th>STATISTICAL_MURDER_FLAG</th>\n",
       "      <th>PERP_AGE_GROUP</th>\n",
       "      <th>PERP_SEX</th>\n",
       "      <th>PERP_RACE</th>\n",
       "      <th>VIC_AGE_GROUP</th>\n",
       "      <th>VIC_SEX</th>\n",
       "      <th>VIC_RACE</th>\n",
       "      <th>X_COORD_CD</th>\n",
       "      <th>Y_COORD_CD</th>\n",
       "      <th>Latitude</th>\n",
       "      <th>Longitude</th>\n",
       "      <th>Lon_Lat</th>\n",
       "    </tr>\n",
       "  </thead>\n",
       "  <tbody>\n",
       "    <tr>\n",
       "      <th>0</th>\n",
       "      <td>9953245</td>\n",
       "      <td>09/04/2011</td>\n",
       "      <td>23:30:00</td>\n",
       "      <td>BROOKLYN</td>\n",
       "      <td>75.0</td>\n",
       "      <td>0.0</td>\n",
       "      <td>False</td>\n",
       "      <td>18-24</td>\n",
       "      <td>M</td>\n",
       "      <td>BLACK</td>\n",
       "      <td>25-44</td>\n",
       "      <td>M</td>\n",
       "      <td>BLACK</td>\n",
       "      <td>1026387</td>\n",
       "      <td>183623</td>\n",
       "      <td>40.887451</td>\n",
       "      <td>-73.847608</td>\n",
       "      <td>POINT (-73.84760778699997 40.88745131300004)</td>\n",
       "    </tr>\n",
       "  </tbody>\n",
       "</table>\n",
       "</div>"
      ],
      "text/plain": [
       "   INCIDENT_KEY  OCCUR_DATE OCCUR_TIME      BORO  PRECINCT  JURISDICTION_CODE  \\\n",
       "0       9953245  09/04/2011   23:30:00  BROOKLYN      75.0                0.0   \n",
       "\n",
       "  STATISTICAL_MURDER_FLAG PERP_AGE_GROUP PERP_SEX PERP_RACE VIC_AGE_GROUP  \\\n",
       "0                   False          18-24        M     BLACK         25-44   \n",
       "\n",
       "  VIC_SEX VIC_RACE X_COORD_CD Y_COORD_CD   Latitude  Longitude  \\\n",
       "0       M    BLACK    1026387     183623  40.887451 -73.847608   \n",
       "\n",
       "                                        Lon_Lat  \n",
       "0  POINT (-73.84760778699997 40.88745131300004)  "
      ]
     },
     "execution_count": 43,
     "metadata": {},
     "output_type": "execute_result"
    }
   ],
   "source": [
    "data.mode(axis=0).head(1)"
   ]
  },
  {
   "cell_type": "code",
   "execution_count": 44,
   "metadata": {},
   "outputs": [
    {
     "data": {
      "text/html": [
       "<div>\n",
       "<style scoped>\n",
       "    .dataframe tbody tr th:only-of-type {\n",
       "        vertical-align: middle;\n",
       "    }\n",
       "\n",
       "    .dataframe tbody tr th {\n",
       "        vertical-align: top;\n",
       "    }\n",
       "\n",
       "    .dataframe thead th {\n",
       "        text-align: right;\n",
       "    }\n",
       "</style>\n",
       "<table border=\"1\" class=\"dataframe\">\n",
       "  <thead>\n",
       "    <tr style=\"text-align: right;\">\n",
       "      <th></th>\n",
       "      <th>INCIDENT_KEY</th>\n",
       "      <th>OCCUR_DATE</th>\n",
       "      <th>OCCUR_TIME</th>\n",
       "      <th>BORO</th>\n",
       "      <th>PRECINCT</th>\n",
       "      <th>JURISDICTION_CODE</th>\n",
       "      <th>STATISTICAL_MURDER_FLAG</th>\n",
       "      <th>PERP_AGE_GROUP</th>\n",
       "      <th>PERP_SEX</th>\n",
       "      <th>PERP_RACE</th>\n",
       "      <th>VIC_AGE_GROUP</th>\n",
       "      <th>VIC_SEX</th>\n",
       "      <th>VIC_RACE</th>\n",
       "      <th>X_COORD_CD</th>\n",
       "      <th>Y_COORD_CD</th>\n",
       "      <th>Latitude</th>\n",
       "      <th>Longitude</th>\n",
       "      <th>Lon_Lat</th>\n",
       "    </tr>\n",
       "  </thead>\n",
       "  <tbody>\n",
       "    <tr>\n",
       "      <th>0</th>\n",
       "      <td>201575314</td>\n",
       "      <td>08/23/2019</td>\n",
       "      <td>22:10:00</td>\n",
       "      <td>QUEENS</td>\n",
       "      <td>103</td>\n",
       "      <td>0.0</td>\n",
       "      <td>False</td>\n",
       "      <td>18-24</td>\n",
       "      <td>M</td>\n",
       "      <td>BLACK</td>\n",
       "      <td>25-44</td>\n",
       "      <td>M</td>\n",
       "      <td>BLACK</td>\n",
       "      <td>1037451</td>\n",
       "      <td>193561</td>\n",
       "      <td>40.697805</td>\n",
       "      <td>-73.808141</td>\n",
       "      <td>POINT (-73.80814071699996 40.697805308000056)</td>\n",
       "    </tr>\n",
       "    <tr>\n",
       "      <th>1</th>\n",
       "      <td>205748546</td>\n",
       "      <td>11/27/2019</td>\n",
       "      <td>15:54:00</td>\n",
       "      <td>BRONX</td>\n",
       "      <td>40</td>\n",
       "      <td>0.0</td>\n",
       "      <td>False</td>\n",
       "      <td>&lt;18</td>\n",
       "      <td>M</td>\n",
       "      <td>BLACK</td>\n",
       "      <td>25-44</td>\n",
       "      <td>F</td>\n",
       "      <td>BLACK</td>\n",
       "      <td>1006789</td>\n",
       "      <td>237559</td>\n",
       "      <td>40.818700</td>\n",
       "      <td>-73.918571</td>\n",
       "      <td>POINT (-73.91857061799993 40.81869973000005)</td>\n",
       "    </tr>\n",
       "    <tr>\n",
       "      <th>2</th>\n",
       "      <td>193118596</td>\n",
       "      <td>02/02/2019</td>\n",
       "      <td>19:40:00</td>\n",
       "      <td>MANHATTAN</td>\n",
       "      <td>23</td>\n",
       "      <td>0.0</td>\n",
       "      <td>False</td>\n",
       "      <td>18-24</td>\n",
       "      <td>M</td>\n",
       "      <td>WHITE HISPANIC</td>\n",
       "      <td>18-24</td>\n",
       "      <td>M</td>\n",
       "      <td>BLACK HISPANIC</td>\n",
       "      <td>999347</td>\n",
       "      <td>227795</td>\n",
       "      <td>40.791916</td>\n",
       "      <td>-73.945480</td>\n",
       "      <td>POINT (-73.94547965999999 40.791916091000076)</td>\n",
       "    </tr>\n",
       "    <tr>\n",
       "      <th>3</th>\n",
       "      <td>204192600</td>\n",
       "      <td>10/24/2019</td>\n",
       "      <td>00:52:00</td>\n",
       "      <td>STATEN ISLAND</td>\n",
       "      <td>121</td>\n",
       "      <td>0.0</td>\n",
       "      <td>True</td>\n",
       "      <td>25-44</td>\n",
       "      <td>M</td>\n",
       "      <td>BLACK</td>\n",
       "      <td>25-44</td>\n",
       "      <td>F</td>\n",
       "      <td>BLACK</td>\n",
       "      <td>938149</td>\n",
       "      <td>171781</td>\n",
       "      <td>40.638064</td>\n",
       "      <td>-74.166108</td>\n",
       "      <td>POINT (-74.16610830199996 40.63806398200006)</td>\n",
       "    </tr>\n",
       "    <tr>\n",
       "      <th>4</th>\n",
       "      <td>201483468</td>\n",
       "      <td>08/22/2019</td>\n",
       "      <td>18:03:00</td>\n",
       "      <td>BRONX</td>\n",
       "      <td>46</td>\n",
       "      <td>0.0</td>\n",
       "      <td>False</td>\n",
       "      <td>25-44</td>\n",
       "      <td>M</td>\n",
       "      <td>BLACK HISPANIC</td>\n",
       "      <td>18-24</td>\n",
       "      <td>M</td>\n",
       "      <td>BLACK</td>\n",
       "      <td>1008224</td>\n",
       "      <td>250621</td>\n",
       "      <td>40.854547</td>\n",
       "      <td>-73.913339</td>\n",
       "      <td>POINT (-73.91333944399999 40.85454734900003)</td>\n",
       "    </tr>\n",
       "  </tbody>\n",
       "</table>\n",
       "</div>"
      ],
      "text/plain": [
       "   INCIDENT_KEY  OCCUR_DATE OCCUR_TIME           BORO  PRECINCT  \\\n",
       "0     201575314  08/23/2019   22:10:00         QUEENS       103   \n",
       "1     205748546  11/27/2019   15:54:00          BRONX        40   \n",
       "2     193118596  02/02/2019   19:40:00      MANHATTAN        23   \n",
       "3     204192600  10/24/2019   00:52:00  STATEN ISLAND       121   \n",
       "4     201483468  08/22/2019   18:03:00          BRONX        46   \n",
       "\n",
       "   JURISDICTION_CODE  STATISTICAL_MURDER_FLAG PERP_AGE_GROUP PERP_SEX  \\\n",
       "0                0.0                    False          18-24        M   \n",
       "1                0.0                    False            <18        M   \n",
       "2                0.0                    False          18-24        M   \n",
       "3                0.0                     True          25-44        M   \n",
       "4                0.0                    False          25-44        M   \n",
       "\n",
       "        PERP_RACE VIC_AGE_GROUP VIC_SEX        VIC_RACE X_COORD_CD Y_COORD_CD  \\\n",
       "0           BLACK         25-44       M           BLACK    1037451     193561   \n",
       "1           BLACK         25-44       F           BLACK    1006789     237559   \n",
       "2  WHITE HISPANIC         18-24       M  BLACK HISPANIC     999347     227795   \n",
       "3           BLACK         25-44       F           BLACK     938149     171781   \n",
       "4  BLACK HISPANIC         18-24       M           BLACK    1008224     250621   \n",
       "\n",
       "    Latitude  Longitude                                        Lon_Lat  \n",
       "0  40.697805 -73.808141  POINT (-73.80814071699996 40.697805308000056)  \n",
       "1  40.818700 -73.918571   POINT (-73.91857061799993 40.81869973000005)  \n",
       "2  40.791916 -73.945480  POINT (-73.94547965999999 40.791916091000076)  \n",
       "3  40.638064 -74.166108   POINT (-74.16610830199996 40.63806398200006)  \n",
       "4  40.854547 -73.913339   POINT (-73.91333944399999 40.85454734900003)  "
      ]
     },
     "execution_count": 44,
     "metadata": {},
     "output_type": "execute_result"
    }
   ],
   "source": [
    "for column in data.columns:\n",
    "    data[column].fillna(data[column].mode()[0], inplace=True)\n",
    "    \n",
    "data.head()"
   ]
  },
  {
   "cell_type": "code",
   "execution_count": 45,
   "metadata": {},
   "outputs": [
    {
     "name": "stdout",
     "output_type": "stream",
     "text": [
      "<class 'pandas.core.frame.DataFrame'>\n",
      "Int64Index: 17031 entries, 0 to 21624\n",
      "Data columns (total 18 columns):\n",
      " #   Column                   Non-Null Count  Dtype   \n",
      "---  ------                   --------------  -----   \n",
      " 0   INCIDENT_KEY             17031 non-null  int64   \n",
      " 1   OCCUR_DATE               17031 non-null  object  \n",
      " 2   OCCUR_TIME               17031 non-null  object  \n",
      " 3   BORO                     17031 non-null  category\n",
      " 4   PRECINCT                 17031 non-null  int64   \n",
      " 5   JURISDICTION_CODE        17031 non-null  float64 \n",
      " 6   STATISTICAL_MURDER_FLAG  17031 non-null  bool    \n",
      " 7   PERP_AGE_GROUP           17031 non-null  category\n",
      " 8   PERP_SEX                 17031 non-null  category\n",
      " 9   PERP_RACE                17031 non-null  category\n",
      " 10  VIC_AGE_GROUP            17031 non-null  category\n",
      " 11  VIC_SEX                  17031 non-null  category\n",
      " 12  VIC_RACE                 17031 non-null  category\n",
      " 13  X_COORD_CD               17031 non-null  object  \n",
      " 14  Y_COORD_CD               17031 non-null  object  \n",
      " 15  Latitude                 17031 non-null  float64 \n",
      " 16  Longitude                17031 non-null  float64 \n",
      " 17  Lon_Lat                  17031 non-null  object  \n",
      "dtypes: bool(1), category(7), float64(3), int64(2), object(5)\n",
      "memory usage: 1.6+ MB\n"
     ]
    }
   ],
   "source": [
    "data.info()"
   ]
  },
  {
   "cell_type": "markdown",
   "metadata": {},
   "source": [
    "# Task 6 - Removing 'UNKNOWN' categories from the features"
   ]
  },
  {
   "cell_type": "code",
   "execution_count": 46,
   "metadata": {},
   "outputs": [
    {
     "data": {
      "text/plain": [
       "BROOKLYN         7186\n",
       "BRONX            4712\n",
       "QUEENS           2557\n",
       "MANHATTAN        2063\n",
       "STATEN ISLAND     513\n",
       "Name: BORO, dtype: int64"
      ]
     },
     "execution_count": 46,
     "metadata": {},
     "output_type": "execute_result"
    }
   ],
   "source": [
    "data['BORO'].value_counts()"
   ]
  },
  {
   "cell_type": "code",
   "execution_count": 47,
   "metadata": {
    "scrolled": false
   },
   "outputs": [
    {
     "data": {
      "text/plain": [
       "BLACK                             13258\n",
       "UNKNOWN                            1617\n",
       "WHITE HISPANIC                     1213\n",
       "BLACK HISPANIC                      692\n",
       "WHITE                               188\n",
       "ASIAN / PACIFIC ISLANDER             61\n",
       "AMERICAN INDIAN/ALASKAN NATIVE        2\n",
       "Name: PERP_RACE, dtype: int64"
      ]
     },
     "execution_count": 47,
     "metadata": {},
     "output_type": "execute_result"
    }
   ],
   "source": [
    "data['PERP_RACE'].value_counts()"
   ]
  },
  {
   "cell_type": "markdown",
   "metadata": {},
   "source": [
    "### In the above list, we have seen that there is an \"UNKNOWN\" category in 'PERP_RACE'. So, we can safely remove these data as it comprises only small percentage of data"
   ]
  },
  {
   "cell_type": "code",
   "execution_count": 48,
   "metadata": {},
   "outputs": [
    {
     "data": {
      "text/plain": [
       "BLACK                             13258\n",
       "WHITE HISPANIC                     1213\n",
       "BLACK HISPANIC                      692\n",
       "WHITE                               188\n",
       "ASIAN / PACIFIC ISLANDER             61\n",
       "AMERICAN INDIAN/ALASKAN NATIVE        2\n",
       "UNKNOWN                               0\n",
       "Name: PERP_RACE, dtype: int64"
      ]
     },
     "execution_count": 48,
     "metadata": {},
     "output_type": "execute_result"
    }
   ],
   "source": [
    "index_names = data[ data['PERP_RACE'] == 'UNKNOWN'].index \n",
    "data.drop(index_names, axis=0,inplace=True)\n",
    "data['PERP_RACE'].value_counts()"
   ]
  },
  {
   "cell_type": "markdown",
   "metadata": {},
   "source": [
    "### Same with 'PERP_SEX', 'PERP_RACE', 'VIC_SEX', 'VIC_RACE'"
   ]
  },
  {
   "cell_type": "code",
   "execution_count": 49,
   "metadata": {},
   "outputs": [
    {
     "data": {
      "text/plain": [
       "M    15236\n",
       "F      160\n",
       "U        0\n",
       "Name: PERP_SEX, dtype: int64"
      ]
     },
     "execution_count": 49,
     "metadata": {},
     "output_type": "execute_result"
    }
   ],
   "source": [
    "index_names = data[ data['PERP_SEX'] == 'U'].index \n",
    "data.drop(index_names, axis=0,inplace=True)\n",
    "data['PERP_SEX'].value_counts()"
   ]
  },
  {
   "cell_type": "code",
   "execution_count": 50,
   "metadata": {
    "scrolled": true
   },
   "outputs": [
    {
     "data": {
      "text/plain": [
       "M    14235\n",
       "F     1153\n",
       "U        0\n",
       "Name: VIC_SEX, dtype: int64"
      ]
     },
     "execution_count": 50,
     "metadata": {},
     "output_type": "execute_result"
    }
   ],
   "source": [
    "index_names = data[ data['VIC_SEX'] == 'U'].index \n",
    "data.drop(index_names, axis=0,inplace=True)\n",
    "data['VIC_SEX'].value_counts()"
   ]
  },
  {
   "cell_type": "code",
   "execution_count": 51,
   "metadata": {
    "scrolled": true
   },
   "outputs": [
    {
     "data": {
      "text/plain": [
       "BLACK                             11239\n",
       "WHITE HISPANIC                     2047\n",
       "BLACK HISPANIC                     1429\n",
       "WHITE                               412\n",
       "ASIAN / PACIFIC ISLANDER            199\n",
       "AMERICAN INDIAN/ALASKAN NATIVE        6\n",
       "UNKNOWN                               0\n",
       "Name: VIC_RACE, dtype: int64"
      ]
     },
     "execution_count": 51,
     "metadata": {},
     "output_type": "execute_result"
    }
   ],
   "source": [
    "index_names = data[ data['VIC_RACE'] == 'UNKNOWN'].index \n",
    "data.drop(index_names, axis=0,inplace=True)\n",
    "data['VIC_RACE'].value_counts()"
   ]
  },
  {
   "cell_type": "code",
   "execution_count": 52,
   "metadata": {},
   "outputs": [
    {
     "data": {
      "text/plain": [
       "['18-24', '25-44', '45-64', '65+', '<18', 'UNKNOWN']"
      ]
     },
     "execution_count": 52,
     "metadata": {},
     "output_type": "execute_result"
    }
   ],
   "source": [
    "data['VIC_AGE_GROUP'].cat.categories.tolist()"
   ]
  },
  {
   "cell_type": "code",
   "execution_count": 53,
   "metadata": {},
   "outputs": [
    {
     "data": {
      "text/plain": [
       "25-44      6770\n",
       "18-24      5920\n",
       "<18        1528\n",
       "45-64       988\n",
       "65+         103\n",
       "UNKNOWN       0\n",
       "Name: VIC_AGE_GROUP, dtype: int64"
      ]
     },
     "execution_count": 53,
     "metadata": {},
     "output_type": "execute_result"
    }
   ],
   "source": [
    "index_names = data[ data['VIC_AGE_GROUP'] == 'UNKNOWN'].index \n",
    "data.drop(index_names, axis=0,inplace=True)\n",
    "\n",
    "data['VIC_AGE_GROUP'].value_counts()"
   ]
  },
  {
   "cell_type": "code",
   "execution_count": 54,
   "metadata": {},
   "outputs": [
    {
     "data": {
      "text/plain": [
       "['1020', '18-24', '224', '25-44', '45-64', '65+', '940', '<18', 'UNKNOWN']"
      ]
     },
     "execution_count": 54,
     "metadata": {},
     "output_type": "execute_result"
    }
   ],
   "source": [
    "data['PERP_AGE_GROUP'].cat.categories.tolist()"
   ]
  },
  {
   "cell_type": "markdown",
   "metadata": {},
   "source": [
    "### Age range '1020', '940', '224' also does not make sense. So, we have to remove these from the dataset"
   ]
  },
  {
   "cell_type": "code",
   "execution_count": 55,
   "metadata": {},
   "outputs": [
    {
     "data": {
      "text/plain": [
       "18-24      9892\n",
       "25-44      2979\n",
       "<18         870\n",
       "45-64       284\n",
       "65+          35\n",
       "1020          0\n",
       "224           0\n",
       "940           0\n",
       "UNKNOWN       0\n",
       "Name: PERP_AGE_GROUP, dtype: int64"
      ]
     },
     "execution_count": 55,
     "metadata": {},
     "output_type": "execute_result"
    }
   ],
   "source": [
    "index_names = data[ data['PERP_AGE_GROUP'] == 'UNKNOWN'].index \n",
    "data.drop(index_names, axis=0,inplace=True)\n",
    "\n",
    "index_names = data[ data['PERP_AGE_GROUP'] == '1020'].index \n",
    "data.drop(index_names, axis=0,inplace=True)\n",
    "\n",
    "index_names = data[ data['PERP_AGE_GROUP'] == '940'].index \n",
    "data.drop(index_names, axis=0,inplace=True)\n",
    "\n",
    "index_names = data[ data['PERP_AGE_GROUP'] == '224'].index \n",
    "data.drop(index_names, axis=0,inplace=True)\n",
    "\n",
    "data['PERP_AGE_GROUP'].value_counts()"
   ]
  },
  {
   "cell_type": "markdown",
   "metadata": {},
   "source": [
    "# Task 7 - Convert the date and time format to datetime64 datatype"
   ]
  },
  {
   "cell_type": "code",
   "execution_count": 56,
   "metadata": {
    "id": "5u-Z5UNQvKof"
   },
   "outputs": [],
   "source": [
    "# code\n",
    "data['OCCUR_DATE'] = pd.to_datetime(data['OCCUR_DATE'])\n",
    "data['OCCUR_TIME'] = pd.to_datetime(data['OCCUR_TIME'])"
   ]
  },
  {
   "cell_type": "code",
   "execution_count": 57,
   "metadata": {},
   "outputs": [
    {
     "data": {
      "text/html": [
       "<div>\n",
       "<style scoped>\n",
       "    .dataframe tbody tr th:only-of-type {\n",
       "        vertical-align: middle;\n",
       "    }\n",
       "\n",
       "    .dataframe tbody tr th {\n",
       "        vertical-align: top;\n",
       "    }\n",
       "\n",
       "    .dataframe thead th {\n",
       "        text-align: right;\n",
       "    }\n",
       "</style>\n",
       "<table border=\"1\" class=\"dataframe\">\n",
       "  <thead>\n",
       "    <tr style=\"text-align: right;\">\n",
       "      <th></th>\n",
       "      <th>INCIDENT_KEY</th>\n",
       "      <th>OCCUR_DATE</th>\n",
       "      <th>OCCUR_TIME</th>\n",
       "      <th>BORO</th>\n",
       "      <th>PRECINCT</th>\n",
       "      <th>JURISDICTION_CODE</th>\n",
       "      <th>STATISTICAL_MURDER_FLAG</th>\n",
       "      <th>PERP_AGE_GROUP</th>\n",
       "      <th>PERP_SEX</th>\n",
       "      <th>PERP_RACE</th>\n",
       "      <th>VIC_AGE_GROUP</th>\n",
       "      <th>VIC_SEX</th>\n",
       "      <th>VIC_RACE</th>\n",
       "      <th>X_COORD_CD</th>\n",
       "      <th>Y_COORD_CD</th>\n",
       "      <th>Latitude</th>\n",
       "      <th>Longitude</th>\n",
       "      <th>Lon_Lat</th>\n",
       "    </tr>\n",
       "  </thead>\n",
       "  <tbody>\n",
       "    <tr>\n",
       "      <th>0</th>\n",
       "      <td>201575314</td>\n",
       "      <td>2019-08-23</td>\n",
       "      <td>2021-02-27 22:10:00</td>\n",
       "      <td>QUEENS</td>\n",
       "      <td>103</td>\n",
       "      <td>0.0</td>\n",
       "      <td>False</td>\n",
       "      <td>18-24</td>\n",
       "      <td>M</td>\n",
       "      <td>BLACK</td>\n",
       "      <td>25-44</td>\n",
       "      <td>M</td>\n",
       "      <td>BLACK</td>\n",
       "      <td>1037451</td>\n",
       "      <td>193561</td>\n",
       "      <td>40.697805</td>\n",
       "      <td>-73.808141</td>\n",
       "      <td>POINT (-73.80814071699996 40.697805308000056)</td>\n",
       "    </tr>\n",
       "    <tr>\n",
       "      <th>1</th>\n",
       "      <td>205748546</td>\n",
       "      <td>2019-11-27</td>\n",
       "      <td>2021-02-27 15:54:00</td>\n",
       "      <td>BRONX</td>\n",
       "      <td>40</td>\n",
       "      <td>0.0</td>\n",
       "      <td>False</td>\n",
       "      <td>&lt;18</td>\n",
       "      <td>M</td>\n",
       "      <td>BLACK</td>\n",
       "      <td>25-44</td>\n",
       "      <td>F</td>\n",
       "      <td>BLACK</td>\n",
       "      <td>1006789</td>\n",
       "      <td>237559</td>\n",
       "      <td>40.818700</td>\n",
       "      <td>-73.918571</td>\n",
       "      <td>POINT (-73.91857061799993 40.81869973000005)</td>\n",
       "    </tr>\n",
       "    <tr>\n",
       "      <th>2</th>\n",
       "      <td>193118596</td>\n",
       "      <td>2019-02-02</td>\n",
       "      <td>2021-02-27 19:40:00</td>\n",
       "      <td>MANHATTAN</td>\n",
       "      <td>23</td>\n",
       "      <td>0.0</td>\n",
       "      <td>False</td>\n",
       "      <td>18-24</td>\n",
       "      <td>M</td>\n",
       "      <td>WHITE HISPANIC</td>\n",
       "      <td>18-24</td>\n",
       "      <td>M</td>\n",
       "      <td>BLACK HISPANIC</td>\n",
       "      <td>999347</td>\n",
       "      <td>227795</td>\n",
       "      <td>40.791916</td>\n",
       "      <td>-73.945480</td>\n",
       "      <td>POINT (-73.94547965999999 40.791916091000076)</td>\n",
       "    </tr>\n",
       "    <tr>\n",
       "      <th>3</th>\n",
       "      <td>204192600</td>\n",
       "      <td>2019-10-24</td>\n",
       "      <td>2021-02-27 00:52:00</td>\n",
       "      <td>STATEN ISLAND</td>\n",
       "      <td>121</td>\n",
       "      <td>0.0</td>\n",
       "      <td>True</td>\n",
       "      <td>25-44</td>\n",
       "      <td>M</td>\n",
       "      <td>BLACK</td>\n",
       "      <td>25-44</td>\n",
       "      <td>F</td>\n",
       "      <td>BLACK</td>\n",
       "      <td>938149</td>\n",
       "      <td>171781</td>\n",
       "      <td>40.638064</td>\n",
       "      <td>-74.166108</td>\n",
       "      <td>POINT (-74.16610830199996 40.63806398200006)</td>\n",
       "    </tr>\n",
       "    <tr>\n",
       "      <th>4</th>\n",
       "      <td>201483468</td>\n",
       "      <td>2019-08-22</td>\n",
       "      <td>2021-02-27 18:03:00</td>\n",
       "      <td>BRONX</td>\n",
       "      <td>46</td>\n",
       "      <td>0.0</td>\n",
       "      <td>False</td>\n",
       "      <td>25-44</td>\n",
       "      <td>M</td>\n",
       "      <td>BLACK HISPANIC</td>\n",
       "      <td>18-24</td>\n",
       "      <td>M</td>\n",
       "      <td>BLACK</td>\n",
       "      <td>1008224</td>\n",
       "      <td>250621</td>\n",
       "      <td>40.854547</td>\n",
       "      <td>-73.913339</td>\n",
       "      <td>POINT (-73.91333944399999 40.85454734900003)</td>\n",
       "    </tr>\n",
       "  </tbody>\n",
       "</table>\n",
       "</div>"
      ],
      "text/plain": [
       "   INCIDENT_KEY OCCUR_DATE          OCCUR_TIME           BORO  PRECINCT  \\\n",
       "0     201575314 2019-08-23 2021-02-27 22:10:00         QUEENS       103   \n",
       "1     205748546 2019-11-27 2021-02-27 15:54:00          BRONX        40   \n",
       "2     193118596 2019-02-02 2021-02-27 19:40:00      MANHATTAN        23   \n",
       "3     204192600 2019-10-24 2021-02-27 00:52:00  STATEN ISLAND       121   \n",
       "4     201483468 2019-08-22 2021-02-27 18:03:00          BRONX        46   \n",
       "\n",
       "   JURISDICTION_CODE  STATISTICAL_MURDER_FLAG PERP_AGE_GROUP PERP_SEX  \\\n",
       "0                0.0                    False          18-24        M   \n",
       "1                0.0                    False            <18        M   \n",
       "2                0.0                    False          18-24        M   \n",
       "3                0.0                     True          25-44        M   \n",
       "4                0.0                    False          25-44        M   \n",
       "\n",
       "        PERP_RACE VIC_AGE_GROUP VIC_SEX        VIC_RACE X_COORD_CD Y_COORD_CD  \\\n",
       "0           BLACK         25-44       M           BLACK    1037451     193561   \n",
       "1           BLACK         25-44       F           BLACK    1006789     237559   \n",
       "2  WHITE HISPANIC         18-24       M  BLACK HISPANIC     999347     227795   \n",
       "3           BLACK         25-44       F           BLACK     938149     171781   \n",
       "4  BLACK HISPANIC         18-24       M           BLACK    1008224     250621   \n",
       "\n",
       "    Latitude  Longitude                                        Lon_Lat  \n",
       "0  40.697805 -73.808141  POINT (-73.80814071699996 40.697805308000056)  \n",
       "1  40.818700 -73.918571   POINT (-73.91857061799993 40.81869973000005)  \n",
       "2  40.791916 -73.945480  POINT (-73.94547965999999 40.791916091000076)  \n",
       "3  40.638064 -74.166108   POINT (-74.16610830199996 40.63806398200006)  \n",
       "4  40.854547 -73.913339   POINT (-73.91333944399999 40.85454734900003)  "
      ]
     },
     "execution_count": 57,
     "metadata": {},
     "output_type": "execute_result"
    }
   ],
   "source": [
    "data.head()"
   ]
  },
  {
   "cell_type": "markdown",
   "metadata": {},
   "source": [
    "# Task 8 - Now, let us split the date to different columns like day, month and year to better understand the data"
   ]
  },
  {
   "cell_type": "code",
   "execution_count": 58,
   "metadata": {
    "id": "Sjmp3Xq6vOa3"
   },
   "outputs": [],
   "source": [
    "# code\n",
    "data['DAY'] = data['OCCUR_DATE'].dt.day\n",
    "data['MONTH'] = data['OCCUR_DATE'].dt.month\n",
    "data['YEAR'] = data['OCCUR_DATE'].dt.year\n"
   ]
  },
  {
   "cell_type": "markdown",
   "metadata": {},
   "source": [
    "### Day of the month does not make much sense and we cannot draw any insights. So, let us convert the day into Weekday of the week."
   ]
  },
  {
   "cell_type": "code",
   "execution_count": 59,
   "metadata": {},
   "outputs": [],
   "source": [
    "def weekDay(a):\n",
    "    return a.strftime('%A')\n",
    "\n",
    "data['WEEKDAY'] = data['OCCUR_DATE'].apply(lambda x : weekDay(x))"
   ]
  },
  {
   "cell_type": "markdown",
   "metadata": {
    "id": "eOM-ypmgvPnU"
   },
   "source": [
    "### Now, let us split the time to different columns like hours, minutes and seconds to better understand the data"
   ]
  },
  {
   "cell_type": "code",
   "execution_count": 60,
   "metadata": {
    "id": "eLQQUYlyvROd"
   },
   "outputs": [],
   "source": [
    "# code\n",
    "data['time_HOUR'] = data['OCCUR_TIME'].dt.hour\n",
    "data['time_MINUTE'] = data['OCCUR_TIME'].dt.minute\n",
    "data['time_SECOND'] = data['OCCUR_TIME'].dt.second"
   ]
  },
  {
   "cell_type": "code",
   "execution_count": 61,
   "metadata": {},
   "outputs": [
    {
     "data": {
      "text/html": [
       "<div>\n",
       "<style scoped>\n",
       "    .dataframe tbody tr th:only-of-type {\n",
       "        vertical-align: middle;\n",
       "    }\n",
       "\n",
       "    .dataframe tbody tr th {\n",
       "        vertical-align: top;\n",
       "    }\n",
       "\n",
       "    .dataframe thead th {\n",
       "        text-align: right;\n",
       "    }\n",
       "</style>\n",
       "<table border=\"1\" class=\"dataframe\">\n",
       "  <thead>\n",
       "    <tr style=\"text-align: right;\">\n",
       "      <th></th>\n",
       "      <th>INCIDENT_KEY</th>\n",
       "      <th>OCCUR_DATE</th>\n",
       "      <th>OCCUR_TIME</th>\n",
       "      <th>BORO</th>\n",
       "      <th>PRECINCT</th>\n",
       "      <th>JURISDICTION_CODE</th>\n",
       "      <th>STATISTICAL_MURDER_FLAG</th>\n",
       "      <th>PERP_AGE_GROUP</th>\n",
       "      <th>PERP_SEX</th>\n",
       "      <th>PERP_RACE</th>\n",
       "      <th>...</th>\n",
       "      <th>Latitude</th>\n",
       "      <th>Longitude</th>\n",
       "      <th>Lon_Lat</th>\n",
       "      <th>DAY</th>\n",
       "      <th>MONTH</th>\n",
       "      <th>YEAR</th>\n",
       "      <th>WEEKDAY</th>\n",
       "      <th>time_HOUR</th>\n",
       "      <th>time_MINUTE</th>\n",
       "      <th>time_SECOND</th>\n",
       "    </tr>\n",
       "  </thead>\n",
       "  <tbody>\n",
       "    <tr>\n",
       "      <th>0</th>\n",
       "      <td>201575314</td>\n",
       "      <td>2019-08-23</td>\n",
       "      <td>2021-02-27 22:10:00</td>\n",
       "      <td>QUEENS</td>\n",
       "      <td>103</td>\n",
       "      <td>0.0</td>\n",
       "      <td>False</td>\n",
       "      <td>18-24</td>\n",
       "      <td>M</td>\n",
       "      <td>BLACK</td>\n",
       "      <td>...</td>\n",
       "      <td>40.697805</td>\n",
       "      <td>-73.808141</td>\n",
       "      <td>POINT (-73.80814071699996 40.697805308000056)</td>\n",
       "      <td>23</td>\n",
       "      <td>8</td>\n",
       "      <td>2019</td>\n",
       "      <td>Friday</td>\n",
       "      <td>22</td>\n",
       "      <td>10</td>\n",
       "      <td>0</td>\n",
       "    </tr>\n",
       "    <tr>\n",
       "      <th>1</th>\n",
       "      <td>205748546</td>\n",
       "      <td>2019-11-27</td>\n",
       "      <td>2021-02-27 15:54:00</td>\n",
       "      <td>BRONX</td>\n",
       "      <td>40</td>\n",
       "      <td>0.0</td>\n",
       "      <td>False</td>\n",
       "      <td>&lt;18</td>\n",
       "      <td>M</td>\n",
       "      <td>BLACK</td>\n",
       "      <td>...</td>\n",
       "      <td>40.818700</td>\n",
       "      <td>-73.918571</td>\n",
       "      <td>POINT (-73.91857061799993 40.81869973000005)</td>\n",
       "      <td>27</td>\n",
       "      <td>11</td>\n",
       "      <td>2019</td>\n",
       "      <td>Wednesday</td>\n",
       "      <td>15</td>\n",
       "      <td>54</td>\n",
       "      <td>0</td>\n",
       "    </tr>\n",
       "    <tr>\n",
       "      <th>2</th>\n",
       "      <td>193118596</td>\n",
       "      <td>2019-02-02</td>\n",
       "      <td>2021-02-27 19:40:00</td>\n",
       "      <td>MANHATTAN</td>\n",
       "      <td>23</td>\n",
       "      <td>0.0</td>\n",
       "      <td>False</td>\n",
       "      <td>18-24</td>\n",
       "      <td>M</td>\n",
       "      <td>WHITE HISPANIC</td>\n",
       "      <td>...</td>\n",
       "      <td>40.791916</td>\n",
       "      <td>-73.945480</td>\n",
       "      <td>POINT (-73.94547965999999 40.791916091000076)</td>\n",
       "      <td>2</td>\n",
       "      <td>2</td>\n",
       "      <td>2019</td>\n",
       "      <td>Saturday</td>\n",
       "      <td>19</td>\n",
       "      <td>40</td>\n",
       "      <td>0</td>\n",
       "    </tr>\n",
       "    <tr>\n",
       "      <th>3</th>\n",
       "      <td>204192600</td>\n",
       "      <td>2019-10-24</td>\n",
       "      <td>2021-02-27 00:52:00</td>\n",
       "      <td>STATEN ISLAND</td>\n",
       "      <td>121</td>\n",
       "      <td>0.0</td>\n",
       "      <td>True</td>\n",
       "      <td>25-44</td>\n",
       "      <td>M</td>\n",
       "      <td>BLACK</td>\n",
       "      <td>...</td>\n",
       "      <td>40.638064</td>\n",
       "      <td>-74.166108</td>\n",
       "      <td>POINT (-74.16610830199996 40.63806398200006)</td>\n",
       "      <td>24</td>\n",
       "      <td>10</td>\n",
       "      <td>2019</td>\n",
       "      <td>Thursday</td>\n",
       "      <td>0</td>\n",
       "      <td>52</td>\n",
       "      <td>0</td>\n",
       "    </tr>\n",
       "    <tr>\n",
       "      <th>4</th>\n",
       "      <td>201483468</td>\n",
       "      <td>2019-08-22</td>\n",
       "      <td>2021-02-27 18:03:00</td>\n",
       "      <td>BRONX</td>\n",
       "      <td>46</td>\n",
       "      <td>0.0</td>\n",
       "      <td>False</td>\n",
       "      <td>25-44</td>\n",
       "      <td>M</td>\n",
       "      <td>BLACK HISPANIC</td>\n",
       "      <td>...</td>\n",
       "      <td>40.854547</td>\n",
       "      <td>-73.913339</td>\n",
       "      <td>POINT (-73.91333944399999 40.85454734900003)</td>\n",
       "      <td>22</td>\n",
       "      <td>8</td>\n",
       "      <td>2019</td>\n",
       "      <td>Thursday</td>\n",
       "      <td>18</td>\n",
       "      <td>3</td>\n",
       "      <td>0</td>\n",
       "    </tr>\n",
       "  </tbody>\n",
       "</table>\n",
       "<p>5 rows × 25 columns</p>\n",
       "</div>"
      ],
      "text/plain": [
       "   INCIDENT_KEY OCCUR_DATE          OCCUR_TIME           BORO  PRECINCT  \\\n",
       "0     201575314 2019-08-23 2021-02-27 22:10:00         QUEENS       103   \n",
       "1     205748546 2019-11-27 2021-02-27 15:54:00          BRONX        40   \n",
       "2     193118596 2019-02-02 2021-02-27 19:40:00      MANHATTAN        23   \n",
       "3     204192600 2019-10-24 2021-02-27 00:52:00  STATEN ISLAND       121   \n",
       "4     201483468 2019-08-22 2021-02-27 18:03:00          BRONX        46   \n",
       "\n",
       "   JURISDICTION_CODE  STATISTICAL_MURDER_FLAG PERP_AGE_GROUP PERP_SEX  \\\n",
       "0                0.0                    False          18-24        M   \n",
       "1                0.0                    False            <18        M   \n",
       "2                0.0                    False          18-24        M   \n",
       "3                0.0                     True          25-44        M   \n",
       "4                0.0                    False          25-44        M   \n",
       "\n",
       "        PERP_RACE  ...   Latitude  Longitude  \\\n",
       "0           BLACK  ...  40.697805 -73.808141   \n",
       "1           BLACK  ...  40.818700 -73.918571   \n",
       "2  WHITE HISPANIC  ...  40.791916 -73.945480   \n",
       "3           BLACK  ...  40.638064 -74.166108   \n",
       "4  BLACK HISPANIC  ...  40.854547 -73.913339   \n",
       "\n",
       "                                         Lon_Lat DAY MONTH  YEAR    WEEKDAY  \\\n",
       "0  POINT (-73.80814071699996 40.697805308000056)  23     8  2019     Friday   \n",
       "1   POINT (-73.91857061799993 40.81869973000005)  27    11  2019  Wednesday   \n",
       "2  POINT (-73.94547965999999 40.791916091000076)   2     2  2019   Saturday   \n",
       "3   POINT (-74.16610830199996 40.63806398200006)  24    10  2019   Thursday   \n",
       "4   POINT (-73.91333944399999 40.85454734900003)  22     8  2019   Thursday   \n",
       "\n",
       "  time_HOUR  time_MINUTE  time_SECOND  \n",
       "0        22           10            0  \n",
       "1        15           54            0  \n",
       "2        19           40            0  \n",
       "3         0           52            0  \n",
       "4        18            3            0  \n",
       "\n",
       "[5 rows x 25 columns]"
      ]
     },
     "execution_count": 61,
     "metadata": {},
     "output_type": "execute_result"
    }
   ],
   "source": [
    "data.head()"
   ]
  },
  {
   "cell_type": "markdown",
   "metadata": {},
   "source": []
  },
  {
   "cell_type": "markdown",
   "metadata": {},
   "source": [
    "# Task 9 - Now that we have our time and date data in other new columns, we can drop the 'OCCUR_DATE' and 'OCCUR_TIME' data"
   ]
  },
  {
   "cell_type": "code",
   "execution_count": 62,
   "metadata": {},
   "outputs": [
    {
     "data": {
      "text/html": [
       "<div>\n",
       "<style scoped>\n",
       "    .dataframe tbody tr th:only-of-type {\n",
       "        vertical-align: middle;\n",
       "    }\n",
       "\n",
       "    .dataframe tbody tr th {\n",
       "        vertical-align: top;\n",
       "    }\n",
       "\n",
       "    .dataframe thead th {\n",
       "        text-align: right;\n",
       "    }\n",
       "</style>\n",
       "<table border=\"1\" class=\"dataframe\">\n",
       "  <thead>\n",
       "    <tr style=\"text-align: right;\">\n",
       "      <th></th>\n",
       "      <th>INCIDENT_KEY</th>\n",
       "      <th>BORO</th>\n",
       "      <th>PRECINCT</th>\n",
       "      <th>JURISDICTION_CODE</th>\n",
       "      <th>STATISTICAL_MURDER_FLAG</th>\n",
       "      <th>PERP_AGE_GROUP</th>\n",
       "      <th>PERP_SEX</th>\n",
       "      <th>PERP_RACE</th>\n",
       "      <th>VIC_AGE_GROUP</th>\n",
       "      <th>VIC_SEX</th>\n",
       "      <th>...</th>\n",
       "      <th>Latitude</th>\n",
       "      <th>Longitude</th>\n",
       "      <th>Lon_Lat</th>\n",
       "      <th>DAY</th>\n",
       "      <th>MONTH</th>\n",
       "      <th>YEAR</th>\n",
       "      <th>WEEKDAY</th>\n",
       "      <th>time_HOUR</th>\n",
       "      <th>time_MINUTE</th>\n",
       "      <th>time_SECOND</th>\n",
       "    </tr>\n",
       "  </thead>\n",
       "  <tbody>\n",
       "    <tr>\n",
       "      <th>0</th>\n",
       "      <td>201575314</td>\n",
       "      <td>QUEENS</td>\n",
       "      <td>103</td>\n",
       "      <td>0.0</td>\n",
       "      <td>False</td>\n",
       "      <td>18-24</td>\n",
       "      <td>M</td>\n",
       "      <td>BLACK</td>\n",
       "      <td>25-44</td>\n",
       "      <td>M</td>\n",
       "      <td>...</td>\n",
       "      <td>40.697805</td>\n",
       "      <td>-73.808141</td>\n",
       "      <td>POINT (-73.80814071699996 40.697805308000056)</td>\n",
       "      <td>23</td>\n",
       "      <td>8</td>\n",
       "      <td>2019</td>\n",
       "      <td>Friday</td>\n",
       "      <td>22</td>\n",
       "      <td>10</td>\n",
       "      <td>0</td>\n",
       "    </tr>\n",
       "    <tr>\n",
       "      <th>1</th>\n",
       "      <td>205748546</td>\n",
       "      <td>BRONX</td>\n",
       "      <td>40</td>\n",
       "      <td>0.0</td>\n",
       "      <td>False</td>\n",
       "      <td>&lt;18</td>\n",
       "      <td>M</td>\n",
       "      <td>BLACK</td>\n",
       "      <td>25-44</td>\n",
       "      <td>F</td>\n",
       "      <td>...</td>\n",
       "      <td>40.818700</td>\n",
       "      <td>-73.918571</td>\n",
       "      <td>POINT (-73.91857061799993 40.81869973000005)</td>\n",
       "      <td>27</td>\n",
       "      <td>11</td>\n",
       "      <td>2019</td>\n",
       "      <td>Wednesday</td>\n",
       "      <td>15</td>\n",
       "      <td>54</td>\n",
       "      <td>0</td>\n",
       "    </tr>\n",
       "    <tr>\n",
       "      <th>2</th>\n",
       "      <td>193118596</td>\n",
       "      <td>MANHATTAN</td>\n",
       "      <td>23</td>\n",
       "      <td>0.0</td>\n",
       "      <td>False</td>\n",
       "      <td>18-24</td>\n",
       "      <td>M</td>\n",
       "      <td>WHITE HISPANIC</td>\n",
       "      <td>18-24</td>\n",
       "      <td>M</td>\n",
       "      <td>...</td>\n",
       "      <td>40.791916</td>\n",
       "      <td>-73.945480</td>\n",
       "      <td>POINT (-73.94547965999999 40.791916091000076)</td>\n",
       "      <td>2</td>\n",
       "      <td>2</td>\n",
       "      <td>2019</td>\n",
       "      <td>Saturday</td>\n",
       "      <td>19</td>\n",
       "      <td>40</td>\n",
       "      <td>0</td>\n",
       "    </tr>\n",
       "    <tr>\n",
       "      <th>3</th>\n",
       "      <td>204192600</td>\n",
       "      <td>STATEN ISLAND</td>\n",
       "      <td>121</td>\n",
       "      <td>0.0</td>\n",
       "      <td>True</td>\n",
       "      <td>25-44</td>\n",
       "      <td>M</td>\n",
       "      <td>BLACK</td>\n",
       "      <td>25-44</td>\n",
       "      <td>F</td>\n",
       "      <td>...</td>\n",
       "      <td>40.638064</td>\n",
       "      <td>-74.166108</td>\n",
       "      <td>POINT (-74.16610830199996 40.63806398200006)</td>\n",
       "      <td>24</td>\n",
       "      <td>10</td>\n",
       "      <td>2019</td>\n",
       "      <td>Thursday</td>\n",
       "      <td>0</td>\n",
       "      <td>52</td>\n",
       "      <td>0</td>\n",
       "    </tr>\n",
       "    <tr>\n",
       "      <th>4</th>\n",
       "      <td>201483468</td>\n",
       "      <td>BRONX</td>\n",
       "      <td>46</td>\n",
       "      <td>0.0</td>\n",
       "      <td>False</td>\n",
       "      <td>25-44</td>\n",
       "      <td>M</td>\n",
       "      <td>BLACK HISPANIC</td>\n",
       "      <td>18-24</td>\n",
       "      <td>M</td>\n",
       "      <td>...</td>\n",
       "      <td>40.854547</td>\n",
       "      <td>-73.913339</td>\n",
       "      <td>POINT (-73.91333944399999 40.85454734900003)</td>\n",
       "      <td>22</td>\n",
       "      <td>8</td>\n",
       "      <td>2019</td>\n",
       "      <td>Thursday</td>\n",
       "      <td>18</td>\n",
       "      <td>3</td>\n",
       "      <td>0</td>\n",
       "    </tr>\n",
       "  </tbody>\n",
       "</table>\n",
       "<p>5 rows × 23 columns</p>\n",
       "</div>"
      ],
      "text/plain": [
       "   INCIDENT_KEY           BORO  PRECINCT  JURISDICTION_CODE  \\\n",
       "0     201575314         QUEENS       103                0.0   \n",
       "1     205748546          BRONX        40                0.0   \n",
       "2     193118596      MANHATTAN        23                0.0   \n",
       "3     204192600  STATEN ISLAND       121                0.0   \n",
       "4     201483468          BRONX        46                0.0   \n",
       "\n",
       "   STATISTICAL_MURDER_FLAG PERP_AGE_GROUP PERP_SEX       PERP_RACE  \\\n",
       "0                    False          18-24        M           BLACK   \n",
       "1                    False            <18        M           BLACK   \n",
       "2                    False          18-24        M  WHITE HISPANIC   \n",
       "3                     True          25-44        M           BLACK   \n",
       "4                    False          25-44        M  BLACK HISPANIC   \n",
       "\n",
       "  VIC_AGE_GROUP VIC_SEX  ...   Latitude  Longitude  \\\n",
       "0         25-44       M  ...  40.697805 -73.808141   \n",
       "1         25-44       F  ...  40.818700 -73.918571   \n",
       "2         18-24       M  ...  40.791916 -73.945480   \n",
       "3         25-44       F  ...  40.638064 -74.166108   \n",
       "4         18-24       M  ...  40.854547 -73.913339   \n",
       "\n",
       "                                         Lon_Lat  DAY  MONTH  YEAR    WEEKDAY  \\\n",
       "0  POINT (-73.80814071699996 40.697805308000056)   23      8  2019     Friday   \n",
       "1   POINT (-73.91857061799993 40.81869973000005)   27     11  2019  Wednesday   \n",
       "2  POINT (-73.94547965999999 40.791916091000076)    2      2  2019   Saturday   \n",
       "3   POINT (-74.16610830199996 40.63806398200006)   24     10  2019   Thursday   \n",
       "4   POINT (-73.91333944399999 40.85454734900003)   22      8  2019   Thursday   \n",
       "\n",
       "   time_HOUR  time_MINUTE time_SECOND  \n",
       "0         22           10           0  \n",
       "1         15           54           0  \n",
       "2         19           40           0  \n",
       "3          0           52           0  \n",
       "4         18            3           0  \n",
       "\n",
       "[5 rows x 23 columns]"
      ]
     },
     "execution_count": 62,
     "metadata": {},
     "output_type": "execute_result"
    }
   ],
   "source": [
    "data.drop(['OCCUR_DATE','OCCUR_TIME'],inplace=True,axis=1)\n",
    "data.head()"
   ]
  },
  {
   "cell_type": "markdown",
   "metadata": {},
   "source": [
    "# Task 10 -  Here, we can see that age column is described in the form of categories like \"18-24\", \"<18\".....etc., we will split these ranges into two separate columns and find the mean of them."
   ]
  },
  {
   "cell_type": "code",
   "execution_count": 63,
   "metadata": {},
   "outputs": [
    {
     "data": {
      "text/plain": [
       "18-24      9892\n",
       "25-44      2979\n",
       "<18         870\n",
       "45-64       284\n",
       "65+          35\n",
       "1020          0\n",
       "224           0\n",
       "940           0\n",
       "UNKNOWN       0\n",
       "Name: PERP_AGE_GROUP, dtype: int64"
      ]
     },
     "execution_count": 63,
     "metadata": {},
     "output_type": "execute_result"
    }
   ],
   "source": [
    "data['PERP_AGE_GROUP'].value_counts()"
   ]
  },
  {
   "cell_type": "code",
   "execution_count": 64,
   "metadata": {},
   "outputs": [],
   "source": [
    "data['PERP_AGE_GROUP'] = data['PERP_AGE_GROUP'].replace(to_replace =\"65+\", value = \n",
    "\"65-100\")\n",
    "data['PERP_AGE_GROUP'] = data['PERP_AGE_GROUP'].replace(to_replace =\"<18\", value = \n",
    "\"0-18\")"
   ]
  },
  {
   "cell_type": "code",
   "execution_count": 65,
   "metadata": {},
   "outputs": [],
   "source": [
    "\n",
    "data[['AGE_GROUP_MIN', 'AGE_GROUP_MAX']] = data['PERP_AGE_GROUP'].str.split('-|<', 1, expand=True)\n",
    "data[\"AGE_GROUP_MIN\"] = data[\"AGE_GROUP_MIN\"].astype(\"int\")\n",
    "data[\"AGE_GROUP_MAX\"] = data[\"AGE_GROUP_MAX\"].astype(\"int\")"
   ]
  },
  {
   "cell_type": "code",
   "execution_count": 66,
   "metadata": {},
   "outputs": [
    {
     "name": "stdout",
     "output_type": "stream",
     "text": [
      "<class 'pandas.core.frame.DataFrame'>\n",
      "Int64Index: 14060 entries, 0 to 21624\n",
      "Data columns (total 25 columns):\n",
      " #   Column                   Non-Null Count  Dtype   \n",
      "---  ------                   --------------  -----   \n",
      " 0   INCIDENT_KEY             14060 non-null  int64   \n",
      " 1   BORO                     14060 non-null  category\n",
      " 2   PRECINCT                 14060 non-null  int64   \n",
      " 3   JURISDICTION_CODE        14060 non-null  float64 \n",
      " 4   STATISTICAL_MURDER_FLAG  14060 non-null  bool    \n",
      " 5   PERP_AGE_GROUP           14060 non-null  category\n",
      " 6   PERP_SEX                 14060 non-null  category\n",
      " 7   PERP_RACE                14060 non-null  category\n",
      " 8   VIC_AGE_GROUP            14060 non-null  category\n",
      " 9   VIC_SEX                  14060 non-null  category\n",
      " 10  VIC_RACE                 14060 non-null  category\n",
      " 11  X_COORD_CD               14060 non-null  object  \n",
      " 12  Y_COORD_CD               14060 non-null  object  \n",
      " 13  Latitude                 14060 non-null  float64 \n",
      " 14  Longitude                14060 non-null  float64 \n",
      " 15  Lon_Lat                  14060 non-null  object  \n",
      " 16  DAY                      14060 non-null  int64   \n",
      " 17  MONTH                    14060 non-null  int64   \n",
      " 18  YEAR                     14060 non-null  int64   \n",
      " 19  WEEKDAY                  14060 non-null  object  \n",
      " 20  time_HOUR                14060 non-null  int64   \n",
      " 21  time_MINUTE              14060 non-null  int64   \n",
      " 22  time_SECOND              14060 non-null  int64   \n",
      " 23  AGE_GROUP_MIN            14060 non-null  int64   \n",
      " 24  AGE_GROUP_MAX            14060 non-null  int64   \n",
      "dtypes: bool(1), category(7), float64(3), int64(10), object(4)\n",
      "memory usage: 2.0+ MB\n"
     ]
    }
   ],
   "source": [
    "data.info()"
   ]
  },
  {
   "cell_type": "code",
   "execution_count": 67,
   "metadata": {},
   "outputs": [],
   "source": [
    "data['AGE_MEAN'] = (data['AGE_GROUP_MIN']+data['AGE_GROUP_MAX'])/2"
   ]
  },
  {
   "cell_type": "code",
   "execution_count": 68,
   "metadata": {},
   "outputs": [
    {
     "data": {
      "text/html": [
       "<div>\n",
       "<style scoped>\n",
       "    .dataframe tbody tr th:only-of-type {\n",
       "        vertical-align: middle;\n",
       "    }\n",
       "\n",
       "    .dataframe tbody tr th {\n",
       "        vertical-align: top;\n",
       "    }\n",
       "\n",
       "    .dataframe thead th {\n",
       "        text-align: right;\n",
       "    }\n",
       "</style>\n",
       "<table border=\"1\" class=\"dataframe\">\n",
       "  <thead>\n",
       "    <tr style=\"text-align: right;\">\n",
       "      <th></th>\n",
       "      <th>INCIDENT_KEY</th>\n",
       "      <th>BORO</th>\n",
       "      <th>PRECINCT</th>\n",
       "      <th>JURISDICTION_CODE</th>\n",
       "      <th>STATISTICAL_MURDER_FLAG</th>\n",
       "      <th>PERP_AGE_GROUP</th>\n",
       "      <th>PERP_SEX</th>\n",
       "      <th>PERP_RACE</th>\n",
       "      <th>VIC_AGE_GROUP</th>\n",
       "      <th>VIC_SEX</th>\n",
       "      <th>...</th>\n",
       "      <th>DAY</th>\n",
       "      <th>MONTH</th>\n",
       "      <th>YEAR</th>\n",
       "      <th>WEEKDAY</th>\n",
       "      <th>time_HOUR</th>\n",
       "      <th>time_MINUTE</th>\n",
       "      <th>time_SECOND</th>\n",
       "      <th>AGE_GROUP_MIN</th>\n",
       "      <th>AGE_GROUP_MAX</th>\n",
       "      <th>AGE_MEAN</th>\n",
       "    </tr>\n",
       "  </thead>\n",
       "  <tbody>\n",
       "    <tr>\n",
       "      <th>0</th>\n",
       "      <td>201575314</td>\n",
       "      <td>QUEENS</td>\n",
       "      <td>103</td>\n",
       "      <td>0.0</td>\n",
       "      <td>False</td>\n",
       "      <td>18-24</td>\n",
       "      <td>M</td>\n",
       "      <td>BLACK</td>\n",
       "      <td>25-44</td>\n",
       "      <td>M</td>\n",
       "      <td>...</td>\n",
       "      <td>23</td>\n",
       "      <td>8</td>\n",
       "      <td>2019</td>\n",
       "      <td>Friday</td>\n",
       "      <td>22</td>\n",
       "      <td>10</td>\n",
       "      <td>0</td>\n",
       "      <td>18</td>\n",
       "      <td>24</td>\n",
       "      <td>21.0</td>\n",
       "    </tr>\n",
       "    <tr>\n",
       "      <th>1</th>\n",
       "      <td>205748546</td>\n",
       "      <td>BRONX</td>\n",
       "      <td>40</td>\n",
       "      <td>0.0</td>\n",
       "      <td>False</td>\n",
       "      <td>0-18</td>\n",
       "      <td>M</td>\n",
       "      <td>BLACK</td>\n",
       "      <td>25-44</td>\n",
       "      <td>F</td>\n",
       "      <td>...</td>\n",
       "      <td>27</td>\n",
       "      <td>11</td>\n",
       "      <td>2019</td>\n",
       "      <td>Wednesday</td>\n",
       "      <td>15</td>\n",
       "      <td>54</td>\n",
       "      <td>0</td>\n",
       "      <td>0</td>\n",
       "      <td>18</td>\n",
       "      <td>9.0</td>\n",
       "    </tr>\n",
       "    <tr>\n",
       "      <th>2</th>\n",
       "      <td>193118596</td>\n",
       "      <td>MANHATTAN</td>\n",
       "      <td>23</td>\n",
       "      <td>0.0</td>\n",
       "      <td>False</td>\n",
       "      <td>18-24</td>\n",
       "      <td>M</td>\n",
       "      <td>WHITE HISPANIC</td>\n",
       "      <td>18-24</td>\n",
       "      <td>M</td>\n",
       "      <td>...</td>\n",
       "      <td>2</td>\n",
       "      <td>2</td>\n",
       "      <td>2019</td>\n",
       "      <td>Saturday</td>\n",
       "      <td>19</td>\n",
       "      <td>40</td>\n",
       "      <td>0</td>\n",
       "      <td>18</td>\n",
       "      <td>24</td>\n",
       "      <td>21.0</td>\n",
       "    </tr>\n",
       "    <tr>\n",
       "      <th>3</th>\n",
       "      <td>204192600</td>\n",
       "      <td>STATEN ISLAND</td>\n",
       "      <td>121</td>\n",
       "      <td>0.0</td>\n",
       "      <td>True</td>\n",
       "      <td>25-44</td>\n",
       "      <td>M</td>\n",
       "      <td>BLACK</td>\n",
       "      <td>25-44</td>\n",
       "      <td>F</td>\n",
       "      <td>...</td>\n",
       "      <td>24</td>\n",
       "      <td>10</td>\n",
       "      <td>2019</td>\n",
       "      <td>Thursday</td>\n",
       "      <td>0</td>\n",
       "      <td>52</td>\n",
       "      <td>0</td>\n",
       "      <td>25</td>\n",
       "      <td>44</td>\n",
       "      <td>34.5</td>\n",
       "    </tr>\n",
       "    <tr>\n",
       "      <th>4</th>\n",
       "      <td>201483468</td>\n",
       "      <td>BRONX</td>\n",
       "      <td>46</td>\n",
       "      <td>0.0</td>\n",
       "      <td>False</td>\n",
       "      <td>25-44</td>\n",
       "      <td>M</td>\n",
       "      <td>BLACK HISPANIC</td>\n",
       "      <td>18-24</td>\n",
       "      <td>M</td>\n",
       "      <td>...</td>\n",
       "      <td>22</td>\n",
       "      <td>8</td>\n",
       "      <td>2019</td>\n",
       "      <td>Thursday</td>\n",
       "      <td>18</td>\n",
       "      <td>3</td>\n",
       "      <td>0</td>\n",
       "      <td>25</td>\n",
       "      <td>44</td>\n",
       "      <td>34.5</td>\n",
       "    </tr>\n",
       "  </tbody>\n",
       "</table>\n",
       "<p>5 rows × 26 columns</p>\n",
       "</div>"
      ],
      "text/plain": [
       "   INCIDENT_KEY           BORO  PRECINCT  JURISDICTION_CODE  \\\n",
       "0     201575314         QUEENS       103                0.0   \n",
       "1     205748546          BRONX        40                0.0   \n",
       "2     193118596      MANHATTAN        23                0.0   \n",
       "3     204192600  STATEN ISLAND       121                0.0   \n",
       "4     201483468          BRONX        46                0.0   \n",
       "\n",
       "   STATISTICAL_MURDER_FLAG PERP_AGE_GROUP PERP_SEX       PERP_RACE  \\\n",
       "0                    False          18-24        M           BLACK   \n",
       "1                    False           0-18        M           BLACK   \n",
       "2                    False          18-24        M  WHITE HISPANIC   \n",
       "3                     True          25-44        M           BLACK   \n",
       "4                    False          25-44        M  BLACK HISPANIC   \n",
       "\n",
       "  VIC_AGE_GROUP VIC_SEX  ... DAY MONTH  YEAR    WEEKDAY  time_HOUR  \\\n",
       "0         25-44       M  ...  23     8  2019     Friday         22   \n",
       "1         25-44       F  ...  27    11  2019  Wednesday         15   \n",
       "2         18-24       M  ...   2     2  2019   Saturday         19   \n",
       "3         25-44       F  ...  24    10  2019   Thursday          0   \n",
       "4         18-24       M  ...  22     8  2019   Thursday         18   \n",
       "\n",
       "  time_MINUTE  time_SECOND  AGE_GROUP_MIN  AGE_GROUP_MAX AGE_MEAN  \n",
       "0          10            0             18             24     21.0  \n",
       "1          54            0              0             18      9.0  \n",
       "2          40            0             18             24     21.0  \n",
       "3          52            0             25             44     34.5  \n",
       "4           3            0             25             44     34.5  \n",
       "\n",
       "[5 rows x 26 columns]"
      ]
     },
     "execution_count": 68,
     "metadata": {},
     "output_type": "execute_result"
    }
   ],
   "source": [
    "data.head()"
   ]
  },
  {
   "cell_type": "markdown",
   "metadata": {},
   "source": [
    "# Task 11 - Check if the data is skewed "
   ]
  },
  {
   "cell_type": "code",
   "execution_count": 69,
   "metadata": {},
   "outputs": [
    {
     "data": {
      "text/plain": [
       "<AxesSubplot:xlabel='PERP_RACE', ylabel='count'>"
      ]
     },
     "execution_count": 69,
     "metadata": {},
     "output_type": "execute_result"
    },
    {
     "data": {
      "image/png": "[encoded data removed]",
      "text/plain": [
       "<Figure size 1490.4x595.44 with 1 Axes>"
      ]
     },
     "metadata": {},
     "output_type": "display_data"
    }
   ],
   "source": [
    "sns.set(rc={'figure.figsize':(20.7,8.27)})\n",
    "sns.countplot(x='PERP_RACE',data=data)"
   ]
  },
  {
   "cell_type": "markdown",
   "metadata": {},
   "source": [
    "### We can see that data is skewed with 'PERP_RACE' of 'BLACK', However, we choose not to remove any skewed data as we might lose some insights. Same with the following features also."
   ]
  },
  {
   "cell_type": "code",
   "execution_count": 70,
   "metadata": {},
   "outputs": [
    {
     "name": "stdout",
     "output_type": "stream",
     "text": [
      "['M', 'F']\n",
      "Categories (2, object): ['M', 'F']\n"
     ]
    },
    {
     "data": {
      "text/plain": [
       "<AxesSubplot:xlabel='PERP_SEX', ylabel='count'>"
      ]
     },
     "execution_count": 70,
     "metadata": {},
     "output_type": "execute_result"
    },
    {
     "data": {
      "image/png": "[encoded data removed]",
      "text/plain": [
       "<Figure size 1490.4x595.44 with 1 Axes>"
      ]
     },
     "metadata": {},
     "output_type": "display_data"
    }
   ],
   "source": [
    "print(data['PERP_SEX'].unique())\n",
    "sns.countplot(x='PERP_SEX',data=data)"
   ]
  },
  {
   "cell_type": "code",
   "execution_count": 71,
   "metadata": {},
   "outputs": [
    {
     "data": {
      "text/plain": [
       "<AxesSubplot:xlabel='VIC_RACE', ylabel='count'>"
      ]
     },
     "execution_count": 71,
     "metadata": {},
     "output_type": "execute_result"
    },
    {
     "data": {
      "image/png": "[encoded data removed]",
      "text/plain": [
       "<Figure size 1490.4x595.44 with 1 Axes>"
      ]
     },
     "metadata": {},
     "output_type": "display_data"
    }
   ],
   "source": [
    "sns.set(rc={'figure.figsize':(20.7,8.27)})\n",
    "sns.countplot(x='VIC_RACE',data=data)"
   ]
  },
  {
   "cell_type": "code",
   "execution_count": 72,
   "metadata": {},
   "outputs": [
    {
     "data": {
      "text/plain": [
       "<AxesSubplot:xlabel='VIC_SEX', ylabel='count'>"
      ]
     },
     "execution_count": 72,
     "metadata": {},
     "output_type": "execute_result"
    },
    {
     "data": {
      "image/png": "[encoded data removed]",
      "text/plain": [
       "<Figure size 1490.4x595.44 with 1 Axes>"
      ]
     },
     "metadata": {},
     "output_type": "display_data"
    }
   ],
   "source": [
    "sns.set(rc={'figure.figsize':(20.7,8.27)})\n",
    "sns.countplot(x='VIC_SEX',data=data)"
   ]
  },
  {
   "cell_type": "markdown",
   "metadata": {},
   "source": [
    "# Task 12 - Encoding the categorical data with numerics"
   ]
  },
  {
   "cell_type": "code",
   "execution_count": 73,
   "metadata": {
    "id": "LhGcYn-vvZ6I"
   },
   "outputs": [],
   "source": [
    "# code\n",
    "data[\"PERP_AGE_GROUP\"] = data[\"PERP_AGE_GROUP\"].cat.codes\n",
    "data[\"PERP_SEX\"] = data[\"PERP_SEX\"].cat.codes\n",
    "data[\"PERP_RACE\"] = data[\"PERP_RACE\"].cat.codes\n",
    "data[\"VIC_AGE_GROUP\"] = data[\"VIC_AGE_GROUP\"].cat.codes\n",
    "data[\"VIC_SEX\"] = data[\"VIC_SEX\"].cat.codes\n",
    "data[\"VIC_RACE\"] = data[\"VIC_RACE\"].cat.codes\n",
    "data[\"BORO\"] = data[\"BORO\"].cat.codes\n",
    "data[\"STATISTICAL_MURDER_FLAG\"] = data[\"STATISTICAL_MURDER_FLAG\"].astype(\"category\")\n",
    "data[\"STATISTICAL_MURDER_FLAG\"] = data[\"STATISTICAL_MURDER_FLAG\"].cat.codes\n"
   ]
  },
  {
   "cell_type": "code",
   "execution_count": 74,
   "metadata": {},
   "outputs": [
    {
     "data": {
      "text/html": [
       "<div>\n",
       "<style scoped>\n",
       "    .dataframe tbody tr th:only-of-type {\n",
       "        vertical-align: middle;\n",
       "    }\n",
       "\n",
       "    .dataframe tbody tr th {\n",
       "        vertical-align: top;\n",
       "    }\n",
       "\n",
       "    .dataframe thead th {\n",
       "        text-align: right;\n",
       "    }\n",
       "</style>\n",
       "<table border=\"1\" class=\"dataframe\">\n",
       "  <thead>\n",
       "    <tr style=\"text-align: right;\">\n",
       "      <th></th>\n",
       "      <th>INCIDENT_KEY</th>\n",
       "      <th>BORO</th>\n",
       "      <th>PRECINCT</th>\n",
       "      <th>JURISDICTION_CODE</th>\n",
       "      <th>STATISTICAL_MURDER_FLAG</th>\n",
       "      <th>PERP_AGE_GROUP</th>\n",
       "      <th>PERP_SEX</th>\n",
       "      <th>PERP_RACE</th>\n",
       "      <th>VIC_AGE_GROUP</th>\n",
       "      <th>VIC_SEX</th>\n",
       "      <th>...</th>\n",
       "      <th>DAY</th>\n",
       "      <th>MONTH</th>\n",
       "      <th>YEAR</th>\n",
       "      <th>WEEKDAY</th>\n",
       "      <th>time_HOUR</th>\n",
       "      <th>time_MINUTE</th>\n",
       "      <th>time_SECOND</th>\n",
       "      <th>AGE_GROUP_MIN</th>\n",
       "      <th>AGE_GROUP_MAX</th>\n",
       "      <th>AGE_MEAN</th>\n",
       "    </tr>\n",
       "  </thead>\n",
       "  <tbody>\n",
       "    <tr>\n",
       "      <th>0</th>\n",
       "      <td>201575314</td>\n",
       "      <td>3</td>\n",
       "      <td>103</td>\n",
       "      <td>0.0</td>\n",
       "      <td>0</td>\n",
       "      <td>1</td>\n",
       "      <td>1</td>\n",
       "      <td>2</td>\n",
       "      <td>1</td>\n",
       "      <td>1</td>\n",
       "      <td>...</td>\n",
       "      <td>23</td>\n",
       "      <td>8</td>\n",
       "      <td>2019</td>\n",
       "      <td>Friday</td>\n",
       "      <td>22</td>\n",
       "      <td>10</td>\n",
       "      <td>0</td>\n",
       "      <td>18</td>\n",
       "      <td>24</td>\n",
       "      <td>21.0</td>\n",
       "    </tr>\n",
       "    <tr>\n",
       "      <th>1</th>\n",
       "      <td>205748546</td>\n",
       "      <td>0</td>\n",
       "      <td>40</td>\n",
       "      <td>0.0</td>\n",
       "      <td>0</td>\n",
       "      <td>7</td>\n",
       "      <td>1</td>\n",
       "      <td>2</td>\n",
       "      <td>1</td>\n",
       "      <td>0</td>\n",
       "      <td>...</td>\n",
       "      <td>27</td>\n",
       "      <td>11</td>\n",
       "      <td>2019</td>\n",
       "      <td>Wednesday</td>\n",
       "      <td>15</td>\n",
       "      <td>54</td>\n",
       "      <td>0</td>\n",
       "      <td>0</td>\n",
       "      <td>18</td>\n",
       "      <td>9.0</td>\n",
       "    </tr>\n",
       "    <tr>\n",
       "      <th>2</th>\n",
       "      <td>193118596</td>\n",
       "      <td>2</td>\n",
       "      <td>23</td>\n",
       "      <td>0.0</td>\n",
       "      <td>0</td>\n",
       "      <td>1</td>\n",
       "      <td>1</td>\n",
       "      <td>6</td>\n",
       "      <td>0</td>\n",
       "      <td>1</td>\n",
       "      <td>...</td>\n",
       "      <td>2</td>\n",
       "      <td>2</td>\n",
       "      <td>2019</td>\n",
       "      <td>Saturday</td>\n",
       "      <td>19</td>\n",
       "      <td>40</td>\n",
       "      <td>0</td>\n",
       "      <td>18</td>\n",
       "      <td>24</td>\n",
       "      <td>21.0</td>\n",
       "    </tr>\n",
       "    <tr>\n",
       "      <th>3</th>\n",
       "      <td>204192600</td>\n",
       "      <td>4</td>\n",
       "      <td>121</td>\n",
       "      <td>0.0</td>\n",
       "      <td>1</td>\n",
       "      <td>3</td>\n",
       "      <td>1</td>\n",
       "      <td>2</td>\n",
       "      <td>1</td>\n",
       "      <td>0</td>\n",
       "      <td>...</td>\n",
       "      <td>24</td>\n",
       "      <td>10</td>\n",
       "      <td>2019</td>\n",
       "      <td>Thursday</td>\n",
       "      <td>0</td>\n",
       "      <td>52</td>\n",
       "      <td>0</td>\n",
       "      <td>25</td>\n",
       "      <td>44</td>\n",
       "      <td>34.5</td>\n",
       "    </tr>\n",
       "    <tr>\n",
       "      <th>4</th>\n",
       "      <td>201483468</td>\n",
       "      <td>0</td>\n",
       "      <td>46</td>\n",
       "      <td>0.0</td>\n",
       "      <td>0</td>\n",
       "      <td>3</td>\n",
       "      <td>1</td>\n",
       "      <td>3</td>\n",
       "      <td>0</td>\n",
       "      <td>1</td>\n",
       "      <td>...</td>\n",
       "      <td>22</td>\n",
       "      <td>8</td>\n",
       "      <td>2019</td>\n",
       "      <td>Thursday</td>\n",
       "      <td>18</td>\n",
       "      <td>3</td>\n",
       "      <td>0</td>\n",
       "      <td>25</td>\n",
       "      <td>44</td>\n",
       "      <td>34.5</td>\n",
       "    </tr>\n",
       "  </tbody>\n",
       "</table>\n",
       "<p>5 rows × 26 columns</p>\n",
       "</div>"
      ],
      "text/plain": [
       "   INCIDENT_KEY  BORO  PRECINCT  JURISDICTION_CODE  STATISTICAL_MURDER_FLAG  \\\n",
       "0     201575314     3       103                0.0                        0   \n",
       "1     205748546     0        40                0.0                        0   \n",
       "2     193118596     2        23                0.0                        0   \n",
       "3     204192600     4       121                0.0                        1   \n",
       "4     201483468     0        46                0.0                        0   \n",
       "\n",
       "   PERP_AGE_GROUP  PERP_SEX  PERP_RACE  VIC_AGE_GROUP  VIC_SEX  ...  DAY  \\\n",
       "0               1         1          2              1        1  ...   23   \n",
       "1               7         1          2              1        0  ...   27   \n",
       "2               1         1          6              0        1  ...    2   \n",
       "3               3         1          2              1        0  ...   24   \n",
       "4               3         1          3              0        1  ...   22   \n",
       "\n",
       "  MONTH  YEAR    WEEKDAY  time_HOUR time_MINUTE  time_SECOND  AGE_GROUP_MIN  \\\n",
       "0     8  2019     Friday         22          10            0             18   \n",
       "1    11  2019  Wednesday         15          54            0              0   \n",
       "2     2  2019   Saturday         19          40            0             18   \n",
       "3    10  2019   Thursday          0          52            0             25   \n",
       "4     8  2019   Thursday         18           3            0             25   \n",
       "\n",
       "   AGE_GROUP_MAX AGE_MEAN  \n",
       "0             24     21.0  \n",
       "1             18      9.0  \n",
       "2             24     21.0  \n",
       "3             44     34.5  \n",
       "4             44     34.5  \n",
       "\n",
       "[5 rows x 26 columns]"
      ]
     },
     "execution_count": 74,
     "metadata": {},
     "output_type": "execute_result"
    }
   ],
   "source": [
    "data.head()"
   ]
  },
  {
   "cell_type": "code",
   "execution_count": 75,
   "metadata": {},
   "outputs": [
    {
     "data": {
      "text/html": [
       "<div>\n",
       "<style scoped>\n",
       "    .dataframe tbody tr th:only-of-type {\n",
       "        vertical-align: middle;\n",
       "    }\n",
       "\n",
       "    .dataframe tbody tr th {\n",
       "        vertical-align: top;\n",
       "    }\n",
       "\n",
       "    .dataframe thead th {\n",
       "        text-align: right;\n",
       "    }\n",
       "</style>\n",
       "<table border=\"1\" class=\"dataframe\">\n",
       "  <thead>\n",
       "    <tr style=\"text-align: right;\">\n",
       "      <th></th>\n",
       "      <th>INCIDENT_KEY</th>\n",
       "      <th>BORO</th>\n",
       "      <th>PRECINCT</th>\n",
       "      <th>JURISDICTION_CODE</th>\n",
       "      <th>STATISTICAL_MURDER_FLAG</th>\n",
       "      <th>PERP_AGE_GROUP</th>\n",
       "      <th>PERP_SEX</th>\n",
       "      <th>PERP_RACE</th>\n",
       "      <th>VIC_AGE_GROUP</th>\n",
       "      <th>VIC_SEX</th>\n",
       "      <th>...</th>\n",
       "      <th>Longitude</th>\n",
       "      <th>DAY</th>\n",
       "      <th>MONTH</th>\n",
       "      <th>YEAR</th>\n",
       "      <th>time_HOUR</th>\n",
       "      <th>time_MINUTE</th>\n",
       "      <th>time_SECOND</th>\n",
       "      <th>AGE_GROUP_MIN</th>\n",
       "      <th>AGE_GROUP_MAX</th>\n",
       "      <th>AGE_MEAN</th>\n",
       "    </tr>\n",
       "  </thead>\n",
       "  <tbody>\n",
       "    <tr>\n",
       "      <th>count</th>\n",
       "      <td>1.406000e+04</td>\n",
       "      <td>14060.000000</td>\n",
       "      <td>14060.000000</td>\n",
       "      <td>14060.000000</td>\n",
       "      <td>14060.000000</td>\n",
       "      <td>14060.000000</td>\n",
       "      <td>14060.000000</td>\n",
       "      <td>14060.000000</td>\n",
       "      <td>14060.000000</td>\n",
       "      <td>14060.000000</td>\n",
       "      <td>...</td>\n",
       "      <td>14060.000000</td>\n",
       "      <td>14060.000000</td>\n",
       "      <td>14060.000000</td>\n",
       "      <td>14060.000000</td>\n",
       "      <td>14060.000000</td>\n",
       "      <td>14060.000000</td>\n",
       "      <td>14060.0</td>\n",
       "      <td>14060.000000</td>\n",
       "      <td>14060.000000</td>\n",
       "      <td>14060.000000</td>\n",
       "    </tr>\n",
       "    <tr>\n",
       "      <th>mean</th>\n",
       "      <td>1.020239e+08</td>\n",
       "      <td>1.238265</td>\n",
       "      <td>66.694595</td>\n",
       "      <td>0.346515</td>\n",
       "      <td>0.201636</td>\n",
       "      <td>1.865576</td>\n",
       "      <td>0.989260</td>\n",
       "      <td>2.389545</td>\n",
       "      <td>0.988407</td>\n",
       "      <td>0.923044</td>\n",
       "      <td>...</td>\n",
       "      <td>-73.910201</td>\n",
       "      <td>16.011166</td>\n",
       "      <td>6.815292</td>\n",
       "      <td>2012.322262</td>\n",
       "      <td>12.185491</td>\n",
       "      <td>28.090541</td>\n",
       "      <td>0.0</td>\n",
       "      <td>19.031721</td>\n",
       "      <td>28.863442</td>\n",
       "      <td>23.947582</td>\n",
       "    </tr>\n",
       "    <tr>\n",
       "      <th>std</th>\n",
       "      <td>5.174664e+07</td>\n",
       "      <td>1.111144</td>\n",
       "      <td>27.035051</td>\n",
       "      <td>0.755367</td>\n",
       "      <td>0.401236</td>\n",
       "      <td>1.596148</td>\n",
       "      <td>0.103078</td>\n",
       "      <td>1.122913</td>\n",
       "      <td>1.164691</td>\n",
       "      <td>0.266531</td>\n",
       "      <td>...</td>\n",
       "      <td>0.067830</td>\n",
       "      <td>8.920651</td>\n",
       "      <td>3.166294</td>\n",
       "      <td>3.718190</td>\n",
       "      <td>8.470424</td>\n",
       "      <td>17.428602</td>\n",
       "      <td>0.0</td>\n",
       "      <td>7.042269</td>\n",
       "      <td>10.489539</td>\n",
       "      <td>8.421737</td>\n",
       "    </tr>\n",
       "    <tr>\n",
       "      <th>min</th>\n",
       "      <td>9.953245e+06</td>\n",
       "      <td>0.000000</td>\n",
       "      <td>1.000000</td>\n",
       "      <td>0.000000</td>\n",
       "      <td>0.000000</td>\n",
       "      <td>1.000000</td>\n",
       "      <td>0.000000</td>\n",
       "      <td>0.000000</td>\n",
       "      <td>0.000000</td>\n",
       "      <td>0.000000</td>\n",
       "      <td>...</td>\n",
       "      <td>-74.249304</td>\n",
       "      <td>1.000000</td>\n",
       "      <td>1.000000</td>\n",
       "      <td>2006.000000</td>\n",
       "      <td>0.000000</td>\n",
       "      <td>0.000000</td>\n",
       "      <td>0.0</td>\n",
       "      <td>0.000000</td>\n",
       "      <td>18.000000</td>\n",
       "      <td>9.000000</td>\n",
       "    </tr>\n",
       "    <tr>\n",
       "      <th>25%</th>\n",
       "      <td>6.924852e+07</td>\n",
       "      <td>0.000000</td>\n",
       "      <td>44.000000</td>\n",
       "      <td>0.000000</td>\n",
       "      <td>0.000000</td>\n",
       "      <td>1.000000</td>\n",
       "      <td>1.000000</td>\n",
       "      <td>2.000000</td>\n",
       "      <td>0.000000</td>\n",
       "      <td>1.000000</td>\n",
       "      <td>...</td>\n",
       "      <td>-73.943612</td>\n",
       "      <td>8.000000</td>\n",
       "      <td>4.000000</td>\n",
       "      <td>2009.000000</td>\n",
       "      <td>3.000000</td>\n",
       "      <td>14.000000</td>\n",
       "      <td>0.0</td>\n",
       "      <td>18.000000</td>\n",
       "      <td>24.000000</td>\n",
       "      <td>21.000000</td>\n",
       "    </tr>\n",
       "    <tr>\n",
       "      <th>50%</th>\n",
       "      <td>8.635021e+07</td>\n",
       "      <td>1.000000</td>\n",
       "      <td>69.000000</td>\n",
       "      <td>0.000000</td>\n",
       "      <td>0.000000</td>\n",
       "      <td>1.000000</td>\n",
       "      <td>1.000000</td>\n",
       "      <td>2.000000</td>\n",
       "      <td>1.000000</td>\n",
       "      <td>1.000000</td>\n",
       "      <td>...</td>\n",
       "      <td>-73.916404</td>\n",
       "      <td>16.000000</td>\n",
       "      <td>7.000000</td>\n",
       "      <td>2012.000000</td>\n",
       "      <td>15.000000</td>\n",
       "      <td>30.000000</td>\n",
       "      <td>0.0</td>\n",
       "      <td>18.000000</td>\n",
       "      <td>24.000000</td>\n",
       "      <td>21.000000</td>\n",
       "    </tr>\n",
       "    <tr>\n",
       "      <th>75%</th>\n",
       "      <td>1.464628e+08</td>\n",
       "      <td>2.000000</td>\n",
       "      <td>81.000000</td>\n",
       "      <td>0.000000</td>\n",
       "      <td>0.000000</td>\n",
       "      <td>3.000000</td>\n",
       "      <td>1.000000</td>\n",
       "      <td>2.000000</td>\n",
       "      <td>1.000000</td>\n",
       "      <td>1.000000</td>\n",
       "      <td>...</td>\n",
       "      <td>-73.882759</td>\n",
       "      <td>24.000000</td>\n",
       "      <td>9.000000</td>\n",
       "      <td>2015.000000</td>\n",
       "      <td>20.000000</td>\n",
       "      <td>43.000000</td>\n",
       "      <td>0.0</td>\n",
       "      <td>18.000000</td>\n",
       "      <td>24.000000</td>\n",
       "      <td>21.000000</td>\n",
       "    </tr>\n",
       "    <tr>\n",
       "      <th>max</th>\n",
       "      <td>2.068919e+08</td>\n",
       "      <td>4.000000</td>\n",
       "      <td>123.000000</td>\n",
       "      <td>2.000000</td>\n",
       "      <td>1.000000</td>\n",
       "      <td>7.000000</td>\n",
       "      <td>1.000000</td>\n",
       "      <td>6.000000</td>\n",
       "      <td>4.000000</td>\n",
       "      <td>1.000000</td>\n",
       "      <td>...</td>\n",
       "      <td>-73.702048</td>\n",
       "      <td>31.000000</td>\n",
       "      <td>12.000000</td>\n",
       "      <td>2019.000000</td>\n",
       "      <td>23.000000</td>\n",
       "      <td>59.000000</td>\n",
       "      <td>0.0</td>\n",
       "      <td>65.000000</td>\n",
       "      <td>100.000000</td>\n",
       "      <td>82.500000</td>\n",
       "    </tr>\n",
       "  </tbody>\n",
       "</table>\n",
       "<p>8 rows × 22 columns</p>\n",
       "</div>"
      ],
      "text/plain": [
       "       INCIDENT_KEY          BORO      PRECINCT  JURISDICTION_CODE  \\\n",
       "count  1.406000e+04  14060.000000  14060.000000       14060.000000   \n",
       "mean   1.020239e+08      1.238265     66.694595           0.346515   \n",
       "std    5.174664e+07      1.111144     27.035051           0.755367   \n",
       "min    9.953245e+06      0.000000      1.000000           0.000000   \n",
       "25%    6.924852e+07      0.000000     44.000000           0.000000   \n",
       "50%    8.635021e+07      1.000000     69.000000           0.000000   \n",
       "75%    1.464628e+08      2.000000     81.000000           0.000000   \n",
       "max    2.068919e+08      4.000000    123.000000           2.000000   \n",
       "\n",
       "       STATISTICAL_MURDER_FLAG  PERP_AGE_GROUP      PERP_SEX     PERP_RACE  \\\n",
       "count             14060.000000    14060.000000  14060.000000  14060.000000   \n",
       "mean                  0.201636        1.865576      0.989260      2.389545   \n",
       "std                   0.401236        1.596148      0.103078      1.122913   \n",
       "min                   0.000000        1.000000      0.000000      0.000000   \n",
       "25%                   0.000000        1.000000      1.000000      2.000000   \n",
       "50%                   0.000000        1.000000      1.000000      2.000000   \n",
       "75%                   0.000000        3.000000      1.000000      2.000000   \n",
       "max                   1.000000        7.000000      1.000000      6.000000   \n",
       "\n",
       "       VIC_AGE_GROUP       VIC_SEX  ...     Longitude           DAY  \\\n",
       "count   14060.000000  14060.000000  ...  14060.000000  14060.000000   \n",
       "mean        0.988407      0.923044  ...    -73.910201     16.011166   \n",
       "std         1.164691      0.266531  ...      0.067830      8.920651   \n",
       "min         0.000000      0.000000  ...    -74.249304      1.000000   \n",
       "25%         0.000000      1.000000  ...    -73.943612      8.000000   \n",
       "50%         1.000000      1.000000  ...    -73.916404     16.000000   \n",
       "75%         1.000000      1.000000  ...    -73.882759     24.000000   \n",
       "max         4.000000      1.000000  ...    -73.702048     31.000000   \n",
       "\n",
       "              MONTH          YEAR     time_HOUR   time_MINUTE  time_SECOND  \\\n",
       "count  14060.000000  14060.000000  14060.000000  14060.000000      14060.0   \n",
       "mean       6.815292   2012.322262     12.185491     28.090541          0.0   \n",
       "std        3.166294      3.718190      8.470424     17.428602          0.0   \n",
       "min        1.000000   2006.000000      0.000000      0.000000          0.0   \n",
       "25%        4.000000   2009.000000      3.000000     14.000000          0.0   \n",
       "50%        7.000000   2012.000000     15.000000     30.000000          0.0   \n",
       "75%        9.000000   2015.000000     20.000000     43.000000          0.0   \n",
       "max       12.000000   2019.000000     23.000000     59.000000          0.0   \n",
       "\n",
       "       AGE_GROUP_MIN  AGE_GROUP_MAX      AGE_MEAN  \n",
       "count   14060.000000   14060.000000  14060.000000  \n",
       "mean       19.031721      28.863442     23.947582  \n",
       "std         7.042269      10.489539      8.421737  \n",
       "min         0.000000      18.000000      9.000000  \n",
       "25%        18.000000      24.000000     21.000000  \n",
       "50%        18.000000      24.000000     21.000000  \n",
       "75%        18.000000      24.000000     21.000000  \n",
       "max        65.000000     100.000000     82.500000  \n",
       "\n",
       "[8 rows x 22 columns]"
      ]
     },
     "execution_count": 75,
     "metadata": {},
     "output_type": "execute_result"
    }
   ],
   "source": [
    "data.describe()"
   ]
  },
  {
   "cell_type": "markdown",
   "metadata": {},
   "source": [
    "### Saving the dataset"
   ]
  },
  {
   "cell_type": "code",
   "execution_count": 76,
   "metadata": {},
   "outputs": [],
   "source": [
    "data.to_csv('cleaned_NYPD.csv',index=False)"
   ]
  }
 ],
 "metadata": {
  "colab": {
   "collapsed_sections": [],
   "name": "phase1.ipynb",
   "provenance": [],
   "toc_visible": true
  },
  "kernelspec": {
   "display_name": "Python 3",
   "language": "python",
   "name": "python3"
  },
  "language_info": {
   "codemirror_mode": {
    "name": "ipython",
    "version": 3
   },
   "file_extension": ".py",
   "mimetype": "text/x-python",
   "name": "python",
   "nbconvert_exporter": "python",
   "pygments_lexer": "ipython3",
   "version": "3.9.1"
  }
 },
 "nbformat": 4,
 "nbformat_minor": 1
}
